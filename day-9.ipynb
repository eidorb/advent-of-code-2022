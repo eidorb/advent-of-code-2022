{
 "cells": [
  {
   "cell_type": "markdown",
   "id": "04beb0c5",
   "metadata": {},
   "source": [
    "# [Day 9: Rope Bridge](https://adventofcode.com/2022/day/9)"
   ]
  },
  {
   "cell_type": "code",
   "execution_count": 1,
   "id": "dcd7dc35",
   "metadata": {},
   "outputs": [],
   "source": [
    "example = \"\"\"R 4\n",
    "U 4\n",
    "L 3\n",
    "D 1\n",
    "R 4\n",
    "D 1\n",
    "L 5\n",
    "R 2\"\"\""
   ]
  },
  {
   "cell_type": "markdown",
   "id": "d8e011d3",
   "metadata": {},
   "source": [
    "Parse motions from input."
   ]
  },
  {
   "cell_type": "code",
   "execution_count": 2,
   "id": "6887b746",
   "metadata": {},
   "outputs": [
    {
     "data": {
      "text/plain": [
       "[('R', 4),\n",
       " ('U', 4),\n",
       " ('L', 3),\n",
       " ('D', 1),\n",
       " ('R', 4),\n",
       " ('D', 1),\n",
       " ('L', 5),\n",
       " ('R', 2)]"
      ]
     },
     "execution_count": 2,
     "metadata": {},
     "output_type": "execute_result"
    }
   ],
   "source": [
    "def parse(input):\n",
    "    \"\"\"Returns series of motions parsed from input.\"\"\"\n",
    "    return [\n",
    "        (direction, int(steps)) \n",
    "        for direction, steps in [\n",
    "            line.split() for line in input.splitlines()\n",
    "        ]\n",
    "    ]\n",
    "\n",
    "parse(example)"
   ]
  },
  {
   "cell_type": "markdown",
   "id": "2b06ba4c",
   "metadata": {},
   "source": [
    "Process a single step."
   ]
  },
  {
   "cell_type": "code",
   "execution_count": 3,
   "id": "118d0451",
   "metadata": {},
   "outputs": [],
   "source": [
    "def step(head, tail, direction):\n",
    "    \"\"\"Returns position of head and tail after step in direction.\"\"\"\n",
    "    head_x, head_y = head\n",
    "    tail_x, tail_y = tail\n",
    "    match direction:\n",
    "        case 'U':\n",
    "            head_y += 1\n",
    "        case 'D':\n",
    "            head_y -= 1\n",
    "        case 'L':\n",
    "            head_x -= 1\n",
    "        case 'R':\n",
    "            head_x += 1\n",
    "            \n",
    "    if abs(head_x - tail_x) > 1:\n",
    "        tail_x += 1 if head_x > tail_x else -1\n",
    "        tail_y = head_y\n",
    "    if abs(head_y - tail_y) > 1:\n",
    "        tail_y += 1 if head_y > tail_y else -1\n",
    "        tail_x = head_x\n",
    "\n",
    "    return (head_x, head_y), (tail_x, tail_y)\n",
    "\n",
    "\n",
    "# Tail should follow if head is two steps up, down, left or right.\n",
    "assert step((1, 0), (0, 0), 'R') == ((2, 0), (1, 0))\n",
    "assert step((-1, 0), (0, 0), 'L') == ((-2, 0), (-1, 0))\n",
    "assert step((0, 1), (0, 0), 'U') == ((0, 2), (0, 1))\n",
    "assert step((0, -1), (0, 0), 'D') == ((0, -2), (0, -1))\n",
    "\n",
    "# Tail should follow diagonally.\n",
    "assert step((1, 1), (0, 0), 'U') == ((1, 2), (1, 1))\n",
    "\n",
    "# Tail shouldn't move if head moves on top of tail.\n",
    "assert step((1, 0), (0, 0), 'L') == ((0, 0), (0, 0))"
   ]
  },
  {
   "cell_type": "markdown",
   "id": "17333aea",
   "metadata": {},
   "source": [
    "Track tail positions during simulation."
   ]
  },
  {
   "cell_type": "code",
   "execution_count": 4,
   "id": "7d811ca2",
   "metadata": {},
   "outputs": [
    {
     "data": {
      "text/plain": [
       "[(0, 0),\n",
       " (0, 0),\n",
       " (1, 0),\n",
       " (2, 0),\n",
       " (3, 0),\n",
       " (3, 0),\n",
       " (4, 1),\n",
       " (4, 2),\n",
       " (4, 3),\n",
       " (4, 3),\n",
       " (3, 4),\n",
       " (2, 4),\n",
       " (2, 4),\n",
       " (2, 4),\n",
       " (2, 4),\n",
       " (3, 3),\n",
       " (4, 3),\n",
       " (4, 3),\n",
       " (4, 3),\n",
       " (4, 3),\n",
       " (3, 2),\n",
       " (2, 2),\n",
       " (1, 2),\n",
       " (1, 2),\n",
       " (1, 2)]"
      ]
     },
     "execution_count": 4,
     "metadata": {},
     "output_type": "execute_result"
    }
   ],
   "source": [
    "def simulate(state, motions):\n",
    "    \"\"\"Yields tail positions while simulating series of motions.\"\"\"\n",
    "    head, tail = state\n",
    "    for direction, steps in motions:\n",
    "        while steps:\n",
    "            yield tail\n",
    "            head, tail = step(head, tail, direction)\n",
    "            steps -= 1\n",
    "    yield tail\n",
    "\n",
    "list(simulate(((0, 0), (0, 0)), parse(example)))"
   ]
  },
  {
   "cell_type": "markdown",
   "id": "5decce06",
   "metadata": {},
   "source": [
    "Count unique tail positions."
   ]
  },
  {
   "cell_type": "code",
   "execution_count": 5,
   "id": "267ad178",
   "metadata": {},
   "outputs": [
    {
     "data": {
      "text/plain": [
       "13"
      ]
     },
     "execution_count": 5,
     "metadata": {},
     "output_type": "execute_result"
    }
   ],
   "source": [
    "len(set(simulate(((0, 0), (0, 0)), parse(example))))"
   ]
  },
  {
   "cell_type": "markdown",
   "id": "5b6284ca",
   "metadata": {},
   "source": [
    "# Part 1"
   ]
  },
  {
   "cell_type": "markdown",
   "id": "6cc00860",
   "metadata": {},
   "source": [
    "Count unique tail positions in input."
   ]
  },
  {
   "cell_type": "code",
   "execution_count": 6,
   "id": "94569862",
   "metadata": {},
   "outputs": [
    {
     "data": {
      "text/plain": [
       "6181"
      ]
     },
     "execution_count": 6,
     "metadata": {},
     "output_type": "execute_result"
    }
   ],
   "source": [
    "len(set(simulate(((0, 0), (0, 0)), parse(open('day-9-input.txt').read()))))"
   ]
  },
  {
   "cell_type": "markdown",
   "id": "2aa2b4e3",
   "metadata": {},
   "source": [
    "# Part 2"
   ]
  },
  {
   "cell_type": "markdown",
   "id": "d29b5e7e",
   "metadata": {},
   "source": [
    "Adapt `step()` to handle any number of knots."
   ]
  },
  {
   "cell_type": "code",
   "execution_count": 7,
   "id": "707f7f36",
   "metadata": {},
   "outputs": [],
   "source": [
    "def step(state, direction):\n",
    "    \"\"\"Returns state after step in direction.\"\"\"\n",
    "    head_x, head_y = state[0]\n",
    "    next_state = [None] * len(state)\n",
    "    \n",
    "    # Move head.\n",
    "    match direction:\n",
    "        case 'U':\n",
    "            head_y += 1\n",
    "        case 'D':\n",
    "            head_y -= 1\n",
    "        case 'L':\n",
    "            head_x -= 1\n",
    "        case 'R':\n",
    "            head_x += 1\n",
    "    next_state[0] = (head_x, head_y)\n",
    "    \n",
    "    # Move remaining knots in body.\n",
    "    for knot in range(len(state) - 1):\n",
    "        head_x, head_y = next_state[knot]\n",
    "        tail_x, tail_y = state[knot + 1]\n",
    "        # Tail follows diagonally when head moves diagonally.\n",
    "        if abs(head_x - tail_x) > 1 and abs(head_y - tail_y) > 1:\n",
    "            tail_x += 1\n",
    "            tail_y += 1\n",
    "        elif abs(head_x - tail_x) > 1:\n",
    "            tail_x += 1 if head_x > tail_x else -1\n",
    "            tail_y = head_y\n",
    "        elif abs(head_y - tail_y) > 1:\n",
    "            tail_y += 1 if head_y > tail_y else -1\n",
    "            tail_x = head_x\n",
    "        next_state[knot + 1] = (tail_x, tail_y)\n",
    "\n",
    "    return next_state\n",
    "\n",
    "# Tail should follow if head is two steps up, down, left or right.\n",
    "assert step([(1, 0), (0, 0)], 'R') == [(2, 0), (1, 0)]\n",
    "assert step([(-1, 0), (0, 0)], 'L') == [(-2, 0), (-1, 0)]\n",
    "assert step([(0, 1), (0, 0)], 'U') == [(0, 2), (0, 1)]\n",
    "assert step([(0, -1), (0, 0)], 'D') == [(0, -2), (0, -1)]\n",
    "\n",
    "# Tail should follow diagonally.\n",
    "assert step([(1, 1), (0, 0)], 'U') == [(1, 2), (1, 1)]\n",
    "\n",
    "# Tail shouldn't move if head moves on top of tail.\n",
    "assert step([(1, 0), (0, 0)], 'L') == [(0, 0), (0, 0)]\n",
    "\n",
    "# Knots should move diagonally if body knots move diagonally.\n",
    "assert step([(2, 2), (1, 1), (0, 0)], 'U') == [(2, 3), (2, 2), (1, 1)]"
   ]
  },
  {
   "cell_type": "markdown",
   "id": "2c6438b9",
   "metadata": {},
   "source": [
    "Extend simulate to handle rope with any number of knots."
   ]
  },
  {
   "cell_type": "code",
   "execution_count": 25,
   "id": "6a574fe6",
   "metadata": {},
   "outputs": [],
   "source": [
    "def simulate(state, motions):\n",
    "    \"\"\"Yields state while simulating series of motions.\"\"\"\n",
    "    for direction, steps in motions:\n",
    "        while steps:\n",
    "            state = step(state, direction)\n",
    "            steps -= 1\n",
    "        yield state\n",
    "    yield state"
   ]
  },
  {
   "cell_type": "markdown",
   "id": "b0ed1434",
   "metadata": {},
   "source": [
    "Simulate rope with 10 knots on example input. Count unique tail positions."
   ]
  },
  {
   "cell_type": "code",
   "execution_count": 26,
   "id": "0de9ca09",
   "metadata": {
    "scrolled": false
   },
   "outputs": [
    {
     "name": "stdout",
     "output_type": "stream",
     "text": [
      "\n",
      "......\n",
      "......\n",
      "......\n",
      "......\n",
      "43210.\n",
      "\n",
      "....0.\n",
      "....1.\n",
      "..432.\n",
      ".5....\n",
      "6.....\n",
      "\n",
      ".01...\n",
      "...2..\n",
      "..43..\n",
      ".5....\n",
      "6.....\n",
      "\n",
      "..1...\n",
      ".0.2..\n",
      "..43..\n",
      ".5....\n",
      "6.....\n",
      "\n",
      "......\n",
      "...210\n",
      "..43..\n",
      ".5....\n",
      "6.....\n",
      "\n",
      "......\n",
      "...21.\n",
      "..43.0\n",
      ".5....\n",
      "6.....\n",
      "\n",
      "......\n",
      "......\n",
      "0123..\n",
      ".5....\n",
      "6.....\n",
      "\n",
      "......\n",
      "......\n",
      ".103..\n",
      ".5....\n",
      "6.....\n",
      "\n",
      "......\n",
      "......\n",
      ".103..\n",
      ".5....\n",
      "6.....\n"
     ]
    }
   ],
   "source": [
    "def visualise(states):\n",
    "    min_x = min(knot[0] for state in states for knot in state)\n",
    "    max_x = max(knot[0] for state in states for knot in state)\n",
    "    min_y = min(knot[1] for state in states for knot in state)\n",
    "    max_y = max(knot[1] for state in states for knot in state)\n",
    "\n",
    "    for state in states:\n",
    "        canvas = [['.'] * (max_x - min_x + 1) for _ in range(max_y - min_y + 1)]\n",
    "        canvas[len(canvas) - 1 - (0 - min_y)][0 - min_x] = 's'\n",
    "        for index, (x, y) in enumerate(reversed(state)):\n",
    "            canvas[len(canvas) - 1 - (y - min_y)][x - min_x] = str(len(state) - index - 1)\n",
    "#             canvas[len(canvas) - 1 - (y - min_y)][x - min_x] = '#'\n",
    "        print('\\n' + '\\n'.join(''.join(row) for row in canvas))\n",
    "\n",
    "visualise(list(simulate([(0, 0)] * 10, parse(example))))"
   ]
  },
  {
   "cell_type": "markdown",
   "id": "b4ea84fc",
   "metadata": {},
   "source": [
    "Count unique tail positions."
   ]
  },
  {
   "cell_type": "code",
   "execution_count": 10,
   "id": "2628df35",
   "metadata": {},
   "outputs": [
    {
     "data": {
      "text/plain": [
       "1"
      ]
     },
     "execution_count": 10,
     "metadata": {},
     "output_type": "execute_result"
    }
   ],
   "source": [
    "len(set(state[-1] for state in simulate([(0, 0)] * 10, parse(example))))"
   ]
  },
  {
   "cell_type": "code",
   "execution_count": 11,
   "id": "20244a4d",
   "metadata": {},
   "outputs": [],
   "source": [
    "larger_example = \"\"\"R 5\n",
    "U 8\n",
    "L 8\n",
    "D 3\n",
    "R 17\n",
    "D 10\n",
    "L 25\n",
    "U 20\"\"\""
   ]
  },
  {
   "cell_type": "markdown",
   "id": "4c92bd6a",
   "metadata": {},
   "source": [
    "Simulate rope with 10 knots on larger example. Count unique tail positions."
   ]
  },
  {
   "cell_type": "code",
   "execution_count": 12,
   "id": "6ddd5ea8",
   "metadata": {},
   "outputs": [
    {
     "data": {
      "text/plain": [
       "36"
      ]
     },
     "execution_count": 12,
     "metadata": {},
     "output_type": "execute_result"
    }
   ],
   "source": [
    "len(set(state[-1] for state in simulate([(0, 0)] * 10, parse(larger_example))))"
   ]
  },
  {
   "cell_type": "markdown",
   "id": "83adae7a",
   "metadata": {},
   "source": [
    "Simulate rope with 10 knots on input. Count unique tail positions."
   ]
  },
  {
   "cell_type": "code",
   "execution_count": 28,
   "id": "eb7a3e1d",
   "metadata": {},
   "outputs": [
    {
     "data": {
      "text/plain": [
       "1957"
      ]
     },
     "execution_count": 28,
     "metadata": {},
     "output_type": "execute_result"
    }
   ],
   "source": [
    "len(set(state[-1] for state in simulate([(0, 0)] * 10, parse(open('day-9-input.txt').read()))))"
   ]
  },
  {
   "cell_type": "code",
   "execution_count": 27,
   "id": "19a6f5bc",
   "metadata": {
    "scrolled": false
   },
   "outputs": [
    {
     "name": "stdout",
     "output_type": "stream",
     "text": [
      "\n",
      "..........................\n",
      "..........................\n",
      "..........................\n",
      "..........................\n",
      "..........................\n",
      "..........................\n",
      "..........................\n",
      "..........................\n",
      "..........................\n",
      "..........................\n",
      "..........................\n",
      "..........................\n",
      "..........................\n",
      "..........................\n",
      "..........................\n",
      "...........543210.........\n",
      "..........................\n",
      "..........................\n",
      "..........................\n",
      "..........................\n",
      "..........................\n",
      "\n",
      "..........................\n",
      "..........................\n",
      "..........................\n",
      "..........................\n",
      "..........................\n",
      "..........................\n",
      "..........................\n",
      "................0.........\n",
      "................1.........\n",
      "................2.........\n",
      "................3.........\n",
      "...............54.........\n",
      "..............6...........\n",
      ".............7............\n",
      "............8.............\n",
      "...........9..............\n",
      "..........................\n",
      "..........................\n",
      "..........................\n",
      "..........................\n",
      "..........................\n",
      "\n",
      "..........................\n",
      "..........................\n",
      "..........................\n",
      "..........................\n",
      "..........................\n",
      "..........................\n",
      "..........................\n",
      "........01234.............\n",
      "............5.............\n",
      "............6.............\n",
      "............7.............\n",
      "............8.............\n",
      "............9.............\n",
      "..........................\n",
      "..........................\n",
      "...........s..............\n",
      "..........................\n",
      "..........................\n",
      "..........................\n",
      "..........................\n",
      "..........................\n",
      "\n",
      "..........................\n",
      "..........................\n",
      "..........................\n",
      "..........................\n",
      "..........................\n",
      "..........................\n",
      "..........................\n",
      "..........................\n",
      ".........2345.............\n",
      "........1...6.............\n",
      "........0...7.............\n",
      "............8.............\n",
      "............9.............\n",
      "..........................\n",
      "..........................\n",
      "...........s..............\n",
      "..........................\n",
      "..........................\n",
      "..........................\n",
      "..........................\n",
      "..........................\n",
      "\n",
      "..........................\n",
      "..........................\n",
      "..........................\n",
      "..........................\n",
      "..........................\n",
      "..........................\n",
      "..........................\n",
      "..........................\n",
      "..........................\n",
      "..........................\n",
      "................9876543210\n",
      "..........................\n",
      "..........................\n",
      "..........................\n",
      "..........................\n",
      "...........s..............\n",
      "..........................\n",
      "..........................\n",
      "..........................\n",
      "..........................\n",
      "..........................\n",
      "\n",
      "..........................\n",
      "..........................\n",
      "..........................\n",
      "..........................\n",
      "..........................\n",
      "..........................\n",
      "..........................\n",
      "..........................\n",
      "..........................\n",
      "..........................\n",
      "..........................\n",
      "..........................\n",
      "..........................\n",
      "..........................\n",
      "..........................\n",
      "...........s.........98765\n",
      ".........................4\n",
      ".........................3\n",
      ".........................2\n",
      ".........................1\n",
      ".........................0\n",
      "\n",
      "..........................\n",
      "..........................\n",
      "..........................\n",
      "..........................\n",
      "..........................\n",
      "..........................\n",
      "..........................\n",
      "..........................\n",
      "..........................\n",
      "..........................\n",
      "..........................\n",
      "..........................\n",
      "..........................\n",
      "..........................\n",
      "..........................\n",
      "...........s..............\n",
      "..........................\n",
      "..........................\n",
      "..........................\n",
      "..........................\n",
      "0123456789................\n",
      "\n",
      "0.........................\n",
      "1.........................\n",
      "2.........................\n",
      "3.........................\n",
      "4.........................\n",
      "5.........................\n",
      "6.........................\n",
      "7.........................\n",
      "8.........................\n",
      "9.........................\n",
      "..........................\n",
      "..........................\n",
      "..........................\n",
      "..........................\n",
      "..........................\n",
      "...........s..............\n",
      "..........................\n",
      "..........................\n",
      "..........................\n",
      "..........................\n",
      "..........................\n",
      "\n",
      "0.........................\n",
      "1.........................\n",
      "2.........................\n",
      "3.........................\n",
      "4.........................\n",
      "5.........................\n",
      "6.........................\n",
      "7.........................\n",
      "8.........................\n",
      "9.........................\n",
      "..........................\n",
      "..........................\n",
      "..........................\n",
      "..........................\n",
      "..........................\n",
      "...........s..............\n",
      "..........................\n",
      "..........................\n",
      "..........................\n",
      "..........................\n",
      "..........................\n"
     ]
    }
   ],
   "source": [
    "visualise(list(simulate([(0, 0)] * 10, parse(larger_example))))"
   ]
  },
  {
   "cell_type": "code",
   "execution_count": 13,
   "id": "43f40b93",
   "metadata": {},
   "outputs": [
    {
     "name": "stdout",
     "output_type": "stream",
     "text": [
      "\n",
      "#.....................\n",
      "#.............###.....\n",
      "#............#...#....\n",
      ".#..........#.....#...\n",
      "..#..........#.....#..\n",
      "...#........#.......#.\n",
      "....#......#.........#\n",
      ".....#..............#.\n",
      "......#............#..\n",
      ".......#..........#...\n",
      "........#........#....\n",
      ".........########.....\n"
     ]
    }
   ],
   "source": [
    "visualise([[state[-1] for state in simulate([(0, 0)] * 10, parse(larger_example))]])"
   ]
  }
 ],
 "metadata": {
  "kernelspec": {
   "display_name": "Python 3 (ipykernel)",
   "language": "python",
   "name": "python3"
  },
  "language_info": {
   "codemirror_mode": {
    "name": "ipython",
    "version": 3
   },
   "file_extension": ".py",
   "mimetype": "text/x-python",
   "name": "python",
   "nbconvert_exporter": "python",
   "pygments_lexer": "ipython3",
   "version": "3.11.0"
  }
 },
 "nbformat": 4,
 "nbformat_minor": 5
}
