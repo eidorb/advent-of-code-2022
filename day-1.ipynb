{
 "cells": [
  {
   "cell_type": "markdown",
   "id": "04beb0c5",
   "metadata": {},
   "source": [
    "# [Day 1: Calorie Counting](https://adventofcode.com/2022/day/1)"
   ]
  },
  {
   "cell_type": "code",
   "execution_count": 1,
   "id": "dcd7dc35",
   "metadata": {},
   "outputs": [],
   "source": [
    "example = \"\"\"1000\n",
    "2000\n",
    "3000\n",
    "\n",
    "4000\n",
    "\n",
    "5000\n",
    "6000\n",
    "\n",
    "7000\n",
    "8000\n",
    "9000\n",
    "\n",
    "10000\"\"\""
   ]
  },
  {
   "cell_type": "code",
   "execution_count": 2,
   "id": "6887b746",
   "metadata": {},
   "outputs": [
    {
     "data": {
      "text/plain": [
       "[[1000, 2000, 3000], [4000], [5000, 6000], [7000, 8000, 9000], [10000]]"
      ]
     },
     "execution_count": 2,
     "metadata": {},
     "output_type": "execute_result"
    }
   ],
   "source": [
    "def parse(input):\n",
    "    \"\"\"Parses elf inventories from input.\"\"\"\n",
    "    return [\n",
    "        [int(calories) for calories in inventory.split()]\n",
    "        for inventory in input.split('\\n\\n')\n",
    "    ]\n",
    "    \n",
    "parse(example)"
   ]
  },
  {
   "cell_type": "markdown",
   "id": "436c147d",
   "metadata": {},
   "source": [
    "Sum of inventories"
   ]
  },
  {
   "cell_type": "code",
   "execution_count": 3,
   "id": "a6e1138e",
   "metadata": {},
   "outputs": [
    {
     "data": {
      "text/plain": [
       "[6000, 4000, 11000, 24000, 10000]"
      ]
     },
     "execution_count": 3,
     "metadata": {},
     "output_type": "execute_result"
    }
   ],
   "source": [
    "[sum(inventory) for inventory in parse(example)]"
   ]
  },
  {
   "cell_type": "markdown",
   "id": "ed540c41",
   "metadata": {},
   "source": [
    "Maximum sum of inventories"
   ]
  },
  {
   "cell_type": "code",
   "execution_count": 4,
   "id": "eb274cd5",
   "metadata": {},
   "outputs": [
    {
     "data": {
      "text/plain": [
       "24000"
      ]
     },
     "execution_count": 4,
     "metadata": {},
     "output_type": "execute_result"
    }
   ],
   "source": [
    "max(sum(inventory) for inventory in parse(example))"
   ]
  },
  {
   "cell_type": "markdown",
   "id": "5b6284ca",
   "metadata": {},
   "source": [
    "# Part 1"
   ]
  },
  {
   "cell_type": "code",
   "execution_count": 5,
   "id": "78cdf149",
   "metadata": {},
   "outputs": [
    {
     "data": {
      "text/plain": [
       "71300"
      ]
     },
     "execution_count": 5,
     "metadata": {},
     "output_type": "execute_result"
    }
   ],
   "source": [
    "max(sum(inventory) for inventory in parse(open('day-1-input.txt').read()))"
   ]
  },
  {
   "cell_type": "markdown",
   "id": "2aa2b4e3",
   "metadata": {},
   "source": [
    "# Part 2"
   ]
  },
  {
   "cell_type": "markdown",
   "id": "4f953750",
   "metadata": {},
   "source": [
    "Sort inventories in descending order"
   ]
  },
  {
   "cell_type": "code",
   "execution_count": 6,
   "id": "7689e4d0",
   "metadata": {},
   "outputs": [
    {
     "data": {
      "text/plain": [
       "[24000, 11000, 10000, 6000, 4000]"
      ]
     },
     "execution_count": 6,
     "metadata": {},
     "output_type": "execute_result"
    }
   ],
   "source": [
    "sorted([sum(inventory) for inventory in parse(example)], reverse=True)"
   ]
  },
  {
   "cell_type": "markdown",
   "id": "0f6538d4",
   "metadata": {},
   "source": [
    "Then take sum of first three inventories"
   ]
  },
  {
   "cell_type": "code",
   "execution_count": 7,
   "id": "e261c012",
   "metadata": {},
   "outputs": [
    {
     "data": {
      "text/plain": [
       "45000"
      ]
     },
     "execution_count": 7,
     "metadata": {},
     "output_type": "execute_result"
    }
   ],
   "source": [
    "sum(sorted([sum(inventory) for inventory in parse(example)], reverse=True)[:3])"
   ]
  },
  {
   "cell_type": "markdown",
   "id": "4498c28b",
   "metadata": {},
   "source": [
    "Using the puzzle input"
   ]
  },
  {
   "cell_type": "code",
   "execution_count": 8,
   "id": "b9349410",
   "metadata": {},
   "outputs": [
    {
     "data": {
      "text/plain": [
       "209691"
      ]
     },
     "execution_count": 8,
     "metadata": {},
     "output_type": "execute_result"
    }
   ],
   "source": [
    "sum(sorted([sum(inventory) for inventory in parse(open('day-1-input.txt').read())], reverse=True)[:3])"
   ]
  }
 ],
 "metadata": {
  "kernelspec": {
   "display_name": "Python 3 (ipykernel)",
   "language": "python",
   "name": "python3"
  },
  "language_info": {
   "codemirror_mode": {
    "name": "ipython",
    "version": 3
   },
   "file_extension": ".py",
   "mimetype": "text/x-python",
   "name": "python",
   "nbconvert_exporter": "python",
   "pygments_lexer": "ipython3",
   "version": "3.9.7"
  }
 },
 "nbformat": 4,
 "nbformat_minor": 5
}
