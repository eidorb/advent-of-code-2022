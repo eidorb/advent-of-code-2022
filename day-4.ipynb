{
 "cells": [
  {
   "cell_type": "markdown",
   "id": "04beb0c5",
   "metadata": {},
   "source": [
    "# [Day 4: Camp Cleanup](https://adventofcode.com/2022/day/4)"
   ]
  },
  {
   "cell_type": "code",
   "execution_count": 1,
   "id": "dcd7dc35",
   "metadata": {},
   "outputs": [],
   "source": [
    "example = \"\"\"2-4,6-8\n",
    "2-3,4-5\n",
    "5-7,7-9\n",
    "2-8,3-7\n",
    "6-6,4-6\n",
    "2-6,4-8\"\"\""
   ]
  },
  {
   "cell_type": "code",
   "execution_count": 2,
   "id": "6887b746",
   "metadata": {},
   "outputs": [
    {
     "data": {
      "text/plain": [
       "[[range(2, 5), range(6, 9)],\n",
       " [range(2, 4), range(4, 6)],\n",
       " [range(5, 8), range(7, 10)],\n",
       " [range(2, 9), range(3, 8)],\n",
       " [range(6, 7), range(4, 7)],\n",
       " [range(2, 7), range(4, 9)]]"
      ]
     },
     "execution_count": 2,
     "metadata": {},
     "output_type": "execute_result"
    }
   ],
   "source": [
    "def parse(input):\n",
    "    \"\"\"Parses section assignment ranges from input.\"\"\"\n",
    "    return [\n",
    "        [\n",
    "            # Create range objects from start and stop strings.\n",
    "            range(int(start), int(stop) + 1) \n",
    "            for start, stop in [\n",
    "                range.split('-') for range in line.split(',')\n",
    "            ]\n",
    "        ]\n",
    "        for line in input.splitlines()\n",
    "    ]\n",
    "    \n",
    "parse(example)"
   ]
  },
  {
   "cell_type": "markdown",
   "id": "83d4a6ed",
   "metadata": {},
   "source": [
    "Determine if one range is fully contained by another."
   ]
  },
  {
   "cell_type": "code",
   "execution_count": 3,
   "id": "75cb9df3",
   "metadata": {},
   "outputs": [
    {
     "data": {
      "text/plain": [
       "['[range(2, 5), range(6, 9)] False',\n",
       " '[range(2, 4), range(4, 6)] False',\n",
       " '[range(5, 8), range(7, 10)] False',\n",
       " '[range(2, 9), range(3, 8)] True',\n",
       " '[range(6, 7), range(4, 7)] True',\n",
       " '[range(2, 7), range(4, 9)] False']"
      ]
     },
     "execution_count": 3,
     "metadata": {},
     "output_type": "execute_result"
    }
   ],
   "source": [
    "def fully_contained(a, b):\n",
    "    \"\"\"Returns True if one range is fully contained by the other.\"\"\"\n",
    "    return (min(a) >= min(b) and max(a) <= max(b)) or (min(b) >= min(a) and max(b) <= max(a))\n",
    "    \n",
    "[\n",
    "    f'{ranges} {fully_contained(*ranges)}'\n",
    "    for ranges in parse(example)\n",
    "]"
   ]
  },
  {
   "cell_type": "markdown",
   "id": "7e35bb03",
   "metadata": {},
   "source": [
    "Count fully contained pairs."
   ]
  },
  {
   "cell_type": "code",
   "execution_count": 4,
   "id": "b55daf0a",
   "metadata": {},
   "outputs": [
    {
     "data": {
      "text/plain": [
       "2"
      ]
     },
     "execution_count": 4,
     "metadata": {},
     "output_type": "execute_result"
    }
   ],
   "source": [
    "sum(fully_contained(*ranges) for ranges in parse(example))"
   ]
  },
  {
   "cell_type": "markdown",
   "id": "5b6284ca",
   "metadata": {},
   "source": [
    "# Part 1"
   ]
  },
  {
   "cell_type": "markdown",
   "id": "84d4bf9f",
   "metadata": {},
   "source": [
    "Count fully contained pairs in input."
   ]
  },
  {
   "cell_type": "code",
   "execution_count": 5,
   "id": "c7eaba04",
   "metadata": {},
   "outputs": [
    {
     "data": {
      "text/plain": [
       "431"
      ]
     },
     "execution_count": 5,
     "metadata": {},
     "output_type": "execute_result"
    }
   ],
   "source": [
    "sum(fully_contained(*ranges) for ranges in parse(open('day-4-input.txt').read()))"
   ]
  },
  {
   "cell_type": "markdown",
   "id": "2aa2b4e3",
   "metadata": {},
   "source": [
    "# Part 2"
   ]
  },
  {
   "cell_type": "markdown",
   "id": "ba4613e0",
   "metadata": {},
   "source": [
    "Determine if range pairs overlap."
   ]
  },
  {
   "cell_type": "code",
   "execution_count": 6,
   "id": "af1f1b5c",
   "metadata": {},
   "outputs": [
    {
     "data": {
      "text/plain": [
       "['[range(2, 5), range(6, 9)] False',\n",
       " '[range(2, 4), range(4, 6)] False',\n",
       " '[range(5, 8), range(7, 10)] True',\n",
       " '[range(2, 9), range(3, 8)] True',\n",
       " '[range(6, 7), range(4, 7)] True',\n",
       " '[range(2, 7), range(4, 9)] True']"
      ]
     },
     "execution_count": 6,
     "metadata": {},
     "output_type": "execute_result"
    }
   ],
   "source": [
    "def overlap(a, b):\n",
    "    \"\"\"Returns True if one range overlaps the other.\"\"\"\n",
    "    return (\n",
    "        min(a) <= min(b) <= max(a) or \n",
    "        min(a) <= max(b) <= max(a) or \n",
    "        min(b) <= min(a) <= max(b) or \n",
    "        min(b) <= max(a) <= max(b)\n",
    "    )\n",
    "\n",
    "[\n",
    "    f'{ranges} {overlap(*ranges)}'\n",
    "    for ranges in parse(example)\n",
    "]"
   ]
  },
  {
   "cell_type": "markdown",
   "id": "53949b0f",
   "metadata": {},
   "source": [
    "Count overlapping pairs."
   ]
  },
  {
   "cell_type": "code",
   "execution_count": 7,
   "id": "3a1e9e2f",
   "metadata": {},
   "outputs": [
    {
     "data": {
      "text/plain": [
       "4"
      ]
     },
     "execution_count": 7,
     "metadata": {},
     "output_type": "execute_result"
    }
   ],
   "source": [
    "sum(overlap(*ranges) for ranges in parse(example))"
   ]
  },
  {
   "cell_type": "markdown",
   "id": "d2ff32d1",
   "metadata": {},
   "source": [
    "Count fully overlapping pairs in input."
   ]
  },
  {
   "cell_type": "code",
   "execution_count": 8,
   "id": "df77abd9",
   "metadata": {},
   "outputs": [
    {
     "data": {
      "text/plain": [
       "823"
      ]
     },
     "execution_count": 8,
     "metadata": {},
     "output_type": "execute_result"
    }
   ],
   "source": [
    "sum(overlap(*ranges) for ranges in parse(open('day-4-input.txt').read()))"
   ]
  }
 ],
 "metadata": {
  "kernelspec": {
   "display_name": "Python 3 (ipykernel)",
   "language": "python",
   "name": "python3"
  },
  "language_info": {
   "codemirror_mode": {
    "name": "ipython",
    "version": 3
   },
   "file_extension": ".py",
   "mimetype": "text/x-python",
   "name": "python",
   "nbconvert_exporter": "python",
   "pygments_lexer": "ipython3",
   "version": "3.9.7"
  }
 },
 "nbformat": 4,
 "nbformat_minor": 5
}
