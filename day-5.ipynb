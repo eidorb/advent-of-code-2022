{
 "cells": [
  {
   "cell_type": "markdown",
   "id": "04beb0c5",
   "metadata": {},
   "source": [
    "# [Day 5: Supply Stacks](https://adventofcode.com/2022/day/5)"
   ]
  },
  {
   "cell_type": "code",
   "execution_count": 1,
   "id": "dcd7dc35",
   "metadata": {},
   "outputs": [],
   "source": [
    "example = \"\"\"    [D]    \n",
    "[N] [C]    \n",
    "[Z] [M] [P]\n",
    " 1   2   3 \n",
    "\n",
    "move 1 from 2 to 1\n",
    "move 3 from 1 to 3\n",
    "move 2 from 2 to 1\n",
    "move 1 from 1 to 2\"\"\""
   ]
  },
  {
   "cell_type": "code",
   "execution_count": 2,
   "id": "6887b746",
   "metadata": {},
   "outputs": [
    {
     "data": {
      "text/plain": [
       "({1: ['N', 'Z'], 2: ['D', 'C', 'M'], 3: ['P']},\n",
       " [[1, 2, 1], [3, 1, 3], [2, 2, 1], [1, 1, 2]])"
      ]
     },
     "execution_count": 2,
     "metadata": {},
     "output_type": "execute_result"
    }
   ],
   "source": [
    "def parse(input):\n",
    "    \"\"\"Parses starting stacks and the rearrangement from input.\"\"\"\n",
    "    initial_state, procedure = input.split('\\n\\n')\n",
    "    \n",
    "    \n",
    "    initial_state = {\n",
    "        index: [crate for crate in stack if crate.split()]\n",
    "        for index, stack in enumerate(zip(\n",
    "            *[line[1::4] for line in initial_state.splitlines()[:-1]]\n",
    "        ), start=1)\n",
    "    }\n",
    "    \n",
    "    procedure = [\n",
    "        [int(num) for num in line.split()[1::2]]\n",
    "        for line in procedure.splitlines()\n",
    "    ]\n",
    "\n",
    "    return initial_state, procedure\n",
    "    \n",
    "parse(example)"
   ]
  },
  {
   "cell_type": "markdown",
   "id": "9b570776",
   "metadata": {},
   "source": [
    "Execute rearrangement procedure."
   ]
  },
  {
   "cell_type": "code",
   "execution_count": 3,
   "id": "f36a21bc",
   "metadata": {},
   "outputs": [
    {
     "data": {
      "text/plain": [
       "{1: ['C'], 2: ['M'], 3: ['Z', 'N', 'D', 'P']}"
      ]
     },
     "execution_count": 3,
     "metadata": {},
     "output_type": "execute_result"
    }
   ],
   "source": [
    "def execute(state, procedure):\n",
    "    \"\"\"Returns state of stacks after executing procedure.\"\"\"\n",
    "    for quantity, origin, dest in procedure:\n",
    "        for _ in range(quantity):\n",
    "            # Take top crate from origin and place on dest.\n",
    "            state[dest].insert(0, state[origin].pop(0))\n",
    "    return state\n",
    "\n",
    "execute(*parse(example))"
   ]
  },
  {
   "cell_type": "markdown",
   "id": "7eb43fe2",
   "metadata": {},
   "source": [
    "What crate ends up at the top of each stack?"
   ]
  },
  {
   "cell_type": "code",
   "execution_count": 4,
   "id": "2c9f3b1f",
   "metadata": {},
   "outputs": [
    {
     "data": {
      "text/plain": [
       "'CMZ'"
      ]
     },
     "execution_count": 4,
     "metadata": {},
     "output_type": "execute_result"
    }
   ],
   "source": [
    "''.join(stack[0] for stack in execute(*parse(example)).values())"
   ]
  },
  {
   "cell_type": "markdown",
   "id": "5b6284ca",
   "metadata": {},
   "source": [
    "# Part 1"
   ]
  },
  {
   "cell_type": "markdown",
   "id": "3897f0e2",
   "metadata": {},
   "source": [
    "What crate ends up at the top of each stack?"
   ]
  },
  {
   "cell_type": "code",
   "execution_count": 5,
   "id": "0bc80c13",
   "metadata": {},
   "outputs": [
    {
     "data": {
      "text/plain": [
       "'GRTSWNJHH'"
      ]
     },
     "execution_count": 5,
     "metadata": {},
     "output_type": "execute_result"
    }
   ],
   "source": [
    "''.join(stack[0] for stack in execute(*parse(open('day-5-input.txt').read())).values())"
   ]
  },
  {
   "cell_type": "markdown",
   "id": "2aa2b4e3",
   "metadata": {},
   "source": [
    "# Part 2"
   ]
  },
  {
   "cell_type": "markdown",
   "id": "17a204cb",
   "metadata": {},
   "source": [
    "Execute new rearrangement procedure."
   ]
  },
  {
   "cell_type": "code",
   "execution_count": 6,
   "id": "de7999e1",
   "metadata": {},
   "outputs": [
    {
     "data": {
      "text/plain": [
       "{1: ['M'], 2: ['C'], 3: ['D', 'N', 'Z', 'P']}"
      ]
     },
     "execution_count": 6,
     "metadata": {},
     "output_type": "execute_result"
    }
   ],
   "source": [
    "def execute(state, procedure):\n",
    "    \"\"\"Returns state of stacks after executing procedure.\"\"\"\n",
    "    for quantity, origin, dest in procedure:\n",
    "        for index in range(quantity - 1, -1, -1):\n",
    "            # Take top n crates from origin and place on dest.\n",
    "            state[dest].insert(0, state[origin].pop(index))\n",
    "    return state\n",
    "\n",
    "execute(*parse(example))"
   ]
  },
  {
   "cell_type": "markdown",
   "id": "eadd3905",
   "metadata": {},
   "source": [
    "What crate ends up at the top of each stack?"
   ]
  },
  {
   "cell_type": "code",
   "execution_count": 7,
   "id": "3b838cfe",
   "metadata": {},
   "outputs": [
    {
     "data": {
      "text/plain": [
       "'MCD'"
      ]
     },
     "execution_count": 7,
     "metadata": {},
     "output_type": "execute_result"
    }
   ],
   "source": [
    "''.join(stack[0] for stack in execute(*parse(example)).values())"
   ]
  },
  {
   "cell_type": "markdown",
   "id": "2a466dba",
   "metadata": {},
   "source": [
    "What crate ends up at the top of each stack for input?"
   ]
  },
  {
   "cell_type": "code",
   "execution_count": 8,
   "id": "6ad2267c",
   "metadata": {},
   "outputs": [
    {
     "data": {
      "text/plain": [
       "'QLFQDBBHM'"
      ]
     },
     "execution_count": 8,
     "metadata": {},
     "output_type": "execute_result"
    }
   ],
   "source": [
    "''.join(stack[0] for stack in execute(*parse(open('day-5-input.txt').read())).values())"
   ]
  }
 ],
 "metadata": {
  "kernelspec": {
   "display_name": "Python 3 (ipykernel)",
   "language": "python",
   "name": "python3"
  },
  "language_info": {
   "codemirror_mode": {
    "name": "ipython",
    "version": 3
   },
   "file_extension": ".py",
   "mimetype": "text/x-python",
   "name": "python",
   "nbconvert_exporter": "python",
   "pygments_lexer": "ipython3",
   "version": "3.9.7"
  }
 },
 "nbformat": 4,
 "nbformat_minor": 5
}
