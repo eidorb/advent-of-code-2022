{
 "cells": [
  {
   "cell_type": "markdown",
   "id": "04beb0c5",
   "metadata": {},
   "source": [
    "# [Day 7: No Space Left On Device](https://adventofcode.com/2022/day/7)"
   ]
  },
  {
   "cell_type": "code",
   "execution_count": 1,
   "id": "dcd7dc35",
   "metadata": {},
   "outputs": [],
   "source": [
    "example = \"\"\"$ cd /\n",
    "$ ls\n",
    "dir a\n",
    "14848514 b.txt\n",
    "8504156 c.dat\n",
    "dir d\n",
    "$ cd a\n",
    "$ ls\n",
    "dir e\n",
    "29116 f\n",
    "2557 g\n",
    "62596 h.lst\n",
    "$ cd e\n",
    "$ ls\n",
    "584 i\n",
    "$ cd ..\n",
    "$ cd ..\n",
    "$ cd d\n",
    "$ ls\n",
    "4060174 j\n",
    "8033020 d.log\n",
    "5626152 d.ext\n",
    "7214296 k\"\"\""
   ]
  },
  {
   "cell_type": "markdown",
   "id": "d8e011d3",
   "metadata": {},
   "source": [
    "Parse commands and output."
   ]
  },
  {
   "cell_type": "code",
   "execution_count": 2,
   "id": "6887b746",
   "metadata": {},
   "outputs": [
    {
     "data": {
      "text/plain": [
       "[[['cd', '/']],\n",
       " [['ls'],\n",
       "  ['dir', 'a'],\n",
       "  ['14848514', 'b.txt'],\n",
       "  ['8504156', 'c.dat'],\n",
       "  ['dir', 'd']],\n",
       " [['cd', 'a']],\n",
       " [['ls'], ['dir', 'e'], ['29116', 'f'], ['2557', 'g'], ['62596', 'h.lst']],\n",
       " [['cd', 'e']],\n",
       " [['ls'], ['584', 'i']],\n",
       " [['cd', '..']],\n",
       " [['cd', '..']],\n",
       " [['cd', 'd']],\n",
       " [['ls'],\n",
       "  ['4060174', 'j'],\n",
       "  ['8033020', 'd.log'],\n",
       "  ['5626152', 'd.ext'],\n",
       "  ['7214296', 'k']]]"
      ]
     },
     "execution_count": 2,
     "metadata": {},
     "output_type": "execute_result"
    }
   ],
   "source": [
    "def parse(buffer):\n",
    "    \"\"\"Generates commands and their output.\"\"\"\n",
    "    command = []\n",
    "    for line in buffer.splitlines():\n",
    "        if line.startswith('$'):\n",
    "            if command:\n",
    "                yield command\n",
    "            # Split command line into command and arguments.\n",
    "            command = [line.split()[1:]]\n",
    "        else: \n",
    "            command.append(line.split())\n",
    "    yield command\n",
    "    \n",
    "list(parse(example))"
   ]
  },
  {
   "cell_type": "markdown",
   "id": "b8f7f805",
   "metadata": {},
   "source": [
    "Build file system."
   ]
  },
  {
   "cell_type": "code",
   "execution_count": 3,
   "id": "5916b4f4",
   "metadata": {},
   "outputs": [
    {
     "data": {
      "text/plain": [
       "{PurePosixPath('/'): {(8504156, 'c.dat'), (14848514, 'b.txt')},\n",
       " PurePosixPath('/a'): {(2557, 'g'), (29116, 'f'), (62596, 'h.lst')},\n",
       " PurePosixPath('/a/e'): {(584, 'i')},\n",
       " PurePosixPath('/d'): {(4060174, 'j'),\n",
       "  (5626152, 'd.ext'),\n",
       "  (7214296, 'k'),\n",
       "  (8033020, 'd.log')}}"
      ]
     },
     "execution_count": 3,
     "metadata": {},
     "output_type": "execute_result"
    }
   ],
   "source": [
    "import pathlib\n",
    "\n",
    "def build_fs(commands):\n",
    "    \"Returns filesystem constructed from commands.\"\n",
    "    fs = {}\n",
    "    cwd = pathlib.PurePath()\n",
    "    for (command, *args), *output in commands:\n",
    "        match command:\n",
    "            # cd changes the state of the current directory.\n",
    "            case 'cd':\n",
    "                dir = args[0]\n",
    "                if dir == '..':\n",
    "                    cwd = cwd.parent\n",
    "                else:\n",
    "                    cwd = cwd.joinpath(args[0])\n",
    "            # The output of ls describes the contents of the current directory.\n",
    "            case 'ls':\n",
    "                # Convert size to int if not a directory.\n",
    "                fs[cwd] = {(int(size), name) for size, name in output if size != 'dir'}\n",
    "    return fs\n",
    "\n",
    "build_fs(parse(example))"
   ]
  },
  {
   "cell_type": "markdown",
   "id": "ec6ecd9e",
   "metadata": {},
   "source": [
    "Calculate total directory sizes."
   ]
  },
  {
   "cell_type": "code",
   "execution_count": 4,
   "id": "8d046472",
   "metadata": {},
   "outputs": [
    {
     "data": {
      "text/plain": [
       "{PurePosixPath('/'): 48381165,\n",
       " PurePosixPath('/a'): 94853,\n",
       " PurePosixPath('/a/e'): 584,\n",
       " PurePosixPath('/d'): 24933642}"
      ]
     },
     "execution_count": 4,
     "metadata": {},
     "output_type": "execute_result"
    }
   ],
   "source": [
    "def total(fs):\n",
    "    \"\"\"Returns total sizes of directories of filesystem.\"\"\"\n",
    "    size = {}\n",
    "    for path, contents in fs.items():\n",
    "        # Sum directory size.\n",
    "        total = sum(size for size, name in contents)\n",
    "        size[path] = size.get(path, 0) + total\n",
    "    \n",
    "        # Add total to parent directorys too.\n",
    "        while path != pathlib.PurePath('/'):\n",
    "            size[path.parent] = size.get(path.parent, 0) + total\n",
    "            path = path.parent\n",
    "\n",
    "    return size\n",
    "      \n",
    "total(build_fs(parse(example)))"
   ]
  },
  {
   "cell_type": "markdown",
   "id": "6485d8d3",
   "metadata": {},
   "source": [
    "Sum directories of size at most 100000."
   ]
  },
  {
   "cell_type": "code",
   "execution_count": 5,
   "id": "2c7c0ecc",
   "metadata": {},
   "outputs": [
    {
     "data": {
      "text/plain": [
       "95437"
      ]
     },
     "execution_count": 5,
     "metadata": {},
     "output_type": "execute_result"
    }
   ],
   "source": [
    "sum(\n",
    "    size \n",
    "    for size in total(build_fs(parse(example))).values() \n",
    "    if size <= 100000\n",
    ")"
   ]
  },
  {
   "cell_type": "markdown",
   "id": "5b6284ca",
   "metadata": {},
   "source": [
    "# Part 1"
   ]
  },
  {
   "cell_type": "markdown",
   "id": "00dd0ab9",
   "metadata": {},
   "source": [
    "Sum directories of size at most 100000 in input."
   ]
  },
  {
   "cell_type": "code",
   "execution_count": 6,
   "id": "99788e2c",
   "metadata": {},
   "outputs": [
    {
     "data": {
      "text/plain": [
       "1297159"
      ]
     },
     "execution_count": 6,
     "metadata": {},
     "output_type": "execute_result"
    }
   ],
   "source": [
    "sum(\n",
    "    size \n",
    "    for size in total(build_fs(parse(open('day-7-input.txt').read()))).values() \n",
    "    if size <= 100000\n",
    ")"
   ]
  },
  {
   "cell_type": "markdown",
   "id": "2aa2b4e3",
   "metadata": {},
   "source": [
    "# Part 2"
   ]
  },
  {
   "cell_type": "markdown",
   "id": "2367dcde",
   "metadata": {},
   "source": [
    "Find the smallest directory that, if deleted, would free up enough space on the filesystem to run the update."
   ]
  },
  {
   "cell_type": "code",
   "execution_count": 7,
   "id": "08f0c175",
   "metadata": {},
   "outputs": [
    {
     "data": {
      "text/plain": [
       "24933642"
      ]
     },
     "execution_count": 7,
     "metadata": {},
     "output_type": "execute_result"
    }
   ],
   "source": [
    "available = 70000000\n",
    "required = 30000000\n",
    "\n",
    "totals = total(build_fs(parse(example)))\n",
    "used = available - totals[pathlib.PurePath('/')]\n",
    "\n",
    "min(\n",
    "    size \n",
    "    for size in totals.values()\n",
    "    if used + size >= required\n",
    ")"
   ]
  },
  {
   "cell_type": "markdown",
   "id": "38edb55a",
   "metadata": {},
   "source": [
    "Find the smallest directory that, if deleted, would free up enough space on the filesystem to run the update."
   ]
  },
  {
   "cell_type": "code",
   "execution_count": 8,
   "id": "7101bac5",
   "metadata": {},
   "outputs": [
    {
     "data": {
      "text/plain": [
       "3866390"
      ]
     },
     "execution_count": 8,
     "metadata": {},
     "output_type": "execute_result"
    }
   ],
   "source": [
    "totals = total(build_fs(parse(open('day-7-input.txt').read())))\n",
    "used = available - totals[pathlib.PurePath('/')]\n",
    "\n",
    "min(\n",
    "    size \n",
    "    for size in totals.values()\n",
    "    if used + size >= required\n",
    ")"
   ]
  }
 ],
 "metadata": {
  "kernelspec": {
   "display_name": "Python 3 (ipykernel)",
   "language": "python",
   "name": "python3"
  },
  "language_info": {
   "codemirror_mode": {
    "name": "ipython",
    "version": 3
   },
   "file_extension": ".py",
   "mimetype": "text/x-python",
   "name": "python",
   "nbconvert_exporter": "python",
   "pygments_lexer": "ipython3",
   "version": "3.11.0"
  }
 },
 "nbformat": 4,
 "nbformat_minor": 5
}
