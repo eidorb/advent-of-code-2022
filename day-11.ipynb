{
 "cells": [
  {
   "cell_type": "markdown",
   "id": "04beb0c5",
   "metadata": {},
   "source": [
    "# [Day 11: Monkey in the Middle](https://adventofcode.com/2022/day/11)"
   ]
  },
  {
   "cell_type": "code",
   "execution_count": 1,
   "id": "dcd7dc35",
   "metadata": {},
   "outputs": [],
   "source": [
    "example = \"\"\"Monkey 0:\n",
    "  Starting items: 79, 98\n",
    "  Operation: new = old * 19\n",
    "  Test: divisible by 23\n",
    "    If true: throw to monkey 2\n",
    "    If false: throw to monkey 3\n",
    "\n",
    "Monkey 1:\n",
    "  Starting items: 54, 65, 75, 74\n",
    "  Operation: new = old + 6\n",
    "  Test: divisible by 19\n",
    "    If true: throw to monkey 2\n",
    "    If false: throw to monkey 0\n",
    "\n",
    "Monkey 2:\n",
    "  Starting items: 79, 60, 97\n",
    "  Operation: new = old * old\n",
    "  Test: divisible by 13\n",
    "    If true: throw to monkey 1\n",
    "    If false: throw to monkey 3\n",
    "\n",
    "Monkey 3:\n",
    "  Starting items: 74\n",
    "  Operation: new = old + 3\n",
    "  Test: divisible by 17\n",
    "    If true: throw to monkey 0\n",
    "    If false: throw to monkey 1\"\"\""
   ]
  },
  {
   "cell_type": "markdown",
   "id": "d8e011d3",
   "metadata": {},
   "source": [
    "Parse monkey business from input."
   ]
  },
  {
   "cell_type": "code",
   "execution_count": 21,
   "id": "6887b746",
   "metadata": {},
   "outputs": [
    {
     "data": {
      "text/plain": [
       "[Monkey(items=[79, 98], op=<function <lambda> at 0x10dbf6b60>, divisor=23, true=2, false=3),\n",
       " Monkey(items=[54, 65, 75, 74], op=<function <lambda> at 0x10dbf6c00>, divisor=19, true=2, false=0),\n",
       " Monkey(items=[79, 60, 97], op=<function <lambda> at 0x10dbf6ca0>, divisor=13, true=1, false=3),\n",
       " Monkey(items=[74], op=<function <lambda> at 0x10dbf6d40>, divisor=17, true=0, false=1)]"
      ]
     },
     "execution_count": 21,
     "metadata": {},
     "output_type": "execute_result"
    }
   ],
   "source": [
    "from collections import namedtuple\n",
    "\n",
    "Monkey = namedtuple('Monkey', 'items,op,divisor,true,false')\n",
    "\n",
    "def parse(input):\n",
    "    \"\"\"Returns monkey attributes parsed from input.\"\"\"\n",
    "    monkeys = []\n",
    "    for _, items, op, divisor, true, false in [chunk.splitlines() for chunk in input.split('\\n\\n')]:\n",
    "        monkeys.append(Monkey(\n",
    "            # Convert worry levels to integers.\n",
    "            [int(item) for item in items.split(': ')[1].split(', ')],\n",
    "            # Make the operation a lambda function - neat!\n",
    "            eval('lambda old:' + op.split('=')[1]),\n",
    "            # Extract the divisor - assuming it's always division.\n",
    "            int(divisor.split()[-1]),\n",
    "            # Destination monkey if true.\n",
    "            int(true.split()[-1]),\n",
    "            # Destination monkey if false.\n",
    "            int(false.split()[-1])\n",
    "        ))\n",
    "    return monkeys\n",
    "\n",
    "parse(example)"
   ]
  },
  {
   "cell_type": "markdown",
   "id": "a6ec2e75",
   "metadata": {},
   "source": [
    "Play a round."
   ]
  },
  {
   "cell_type": "code",
   "execution_count": 48,
   "id": "e5fcb26f",
   "metadata": {},
   "outputs": [
    {
     "data": {
      "text/plain": [
       "([Monkey(items=[20, 23, 27, 26], op=<function <lambda> at 0x10dbf7ba0>, divisor=23, true=2, false=3),\n",
       "  Monkey(items=[2080, 25, 167, 207, 401, 1046], op=<function <lambda> at 0x10dda7e20>, divisor=19, true=2, false=0),\n",
       "  Monkey(items=[], op=<function <lambda> at 0x10dda7740>, divisor=13, true=1, false=3),\n",
       "  Monkey(items=[], op=<function <lambda> at 0x10dda7240>, divisor=17, true=0, false=1)],\n",
       " [2, 4, 3, 5])"
      ]
     },
     "execution_count": 48,
     "metadata": {},
     "output_type": "execute_result"
    }
   ],
   "source": [
    "def play_round(monkeys, inspections, post_inspection_divisor=3):\n",
    "    for index, monkey in enumerate(monkeys):\n",
    "        # Inspect each item.\n",
    "        while monkey.items:\n",
    "            # Increment monkey's inspection count.\n",
    "            inspections[index] += 1\n",
    "            # Calculate new worry level.\n",
    "            new = monkey.op(monkey.items.pop(0)) // post_inspection_divisor\n",
    "            # Decide where to throw the item.\n",
    "            if not new % monkey.divisor:\n",
    "                monkeys[monkey.true].items.append(new)\n",
    "            else:\n",
    "                monkeys[monkey.false].items.append(new)\n",
    "    return monkeys, inspections\n",
    "\n",
    "play_round(monkeys := parse(example), [0] * len(monkeys))"
   ]
  },
  {
   "cell_type": "markdown",
   "id": "21e70de3",
   "metadata": {},
   "source": [
    "Calulate level of monkey business after 20 rounds."
   ]
  },
  {
   "cell_type": "code",
   "execution_count": 49,
   "id": "799fbf0d",
   "metadata": {},
   "outputs": [
    {
     "data": {
      "text/plain": [
       "10605"
      ]
     },
     "execution_count": 49,
     "metadata": {},
     "output_type": "execute_result"
    }
   ],
   "source": [
    "import math\n",
    "\n",
    "def calculate_monkey_business(monkeys, rounds=20):\n",
    "    inspections = [0] * len(monkeys)\n",
    "    for _ in range(rounds):\n",
    "        monkeys, inspections = play_round(monkeys, inspections)\n",
    "    # Multiply the inspection count of the two most active monkeys.\n",
    "    return math.prod(sorted(inspections)[-2:])\n",
    "\n",
    "calculate_monkey_business(parse(example))"
   ]
  },
  {
   "cell_type": "markdown",
   "id": "5b6284ca",
   "metadata": {},
   "source": [
    "# Part 1"
   ]
  },
  {
   "cell_type": "markdown",
   "id": "bc187bd1",
   "metadata": {},
   "source": [
    "Calulate level of monkey business after 20 rounds using input."
   ]
  },
  {
   "cell_type": "code",
   "execution_count": 50,
   "id": "e50b6260",
   "metadata": {},
   "outputs": [
    {
     "data": {
      "text/plain": [
       "62491"
      ]
     },
     "execution_count": 50,
     "metadata": {},
     "output_type": "execute_result"
    }
   ],
   "source": [
    "calculate_monkey_business(parse(open('day-11-input.txt').read()))"
   ]
  },
  {
   "cell_type": "markdown",
   "id": "2aa2b4e3",
   "metadata": {},
   "source": [
    "# Part 2"
   ]
  },
  {
   "cell_type": "markdown",
   "id": "be49b698",
   "metadata": {},
   "source": [
    "## Hmm I need a more efficient algorithm"
   ]
  },
  {
   "cell_type": "markdown",
   "id": "ab2a7b0f",
   "metadata": {},
   "source": [
    "Calculate monkey business after 10000 rounds, without dividing worry levels."
   ]
  },
  {
   "cell_type": "code",
   "execution_count": 57,
   "id": "be09c59a",
   "metadata": {},
   "outputs": [
    {
     "data": {
      "text/plain": [
       "[4159, 3837, 162, 4149]"
      ]
     },
     "execution_count": 57,
     "metadata": {},
     "output_type": "execute_result"
    }
   ],
   "source": [
    "def calculate_monkey_business(monkeys, rounds=800):\n",
    "    inspections = [0] * len(monkeys)\n",
    "    for _ in range(rounds):\n",
    "        monkeys, inspections = play_round(monkeys, inspections, post_inspection_divisor=1)\n",
    "    # Multiply the inspection count of the two most active monkeys.\n",
    "#     return math.prod(sorted(inspections)[-2:])\n",
    "    return inspections\n",
    "\n",
    "calculate_monkey_business(parse(example))"
   ]
  },
  {
   "cell_type": "code",
   "execution_count": null,
   "id": "dbbdf201",
   "metadata": {},
   "outputs": [],
   "source": []
  }
 ],
 "metadata": {
  "kernelspec": {
   "display_name": "Python 3 (ipykernel)",
   "language": "python",
   "name": "python3"
  },
  "language_info": {
   "codemirror_mode": {
    "name": "ipython",
    "version": 3
   },
   "file_extension": ".py",
   "mimetype": "text/x-python",
   "name": "python",
   "nbconvert_exporter": "python",
   "pygments_lexer": "ipython3",
   "version": "3.11.0"
  }
 },
 "nbformat": 4,
 "nbformat_minor": 5
}
