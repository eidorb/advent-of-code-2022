{
 "cells": [
  {
   "cell_type": "markdown",
   "id": "04beb0c5",
   "metadata": {},
   "source": [
    "# [Day 2: Rock Paper Scissors](https://adventofcode.com/2022/day/2)"
   ]
  },
  {
   "cell_type": "code",
   "execution_count": 1,
   "id": "dcd7dc35",
   "metadata": {},
   "outputs": [],
   "source": [
    "example = \"\"\"A Y\n",
    "B X\n",
    "C Z\"\"\""
   ]
  },
  {
   "cell_type": "code",
   "execution_count": 2,
   "id": "6887b746",
   "metadata": {},
   "outputs": [
    {
     "data": {
      "text/plain": [
       "[['A', 'Y'], ['B', 'X'], ['C', 'Z']]"
      ]
     },
     "execution_count": 2,
     "metadata": {},
     "output_type": "execute_result"
    }
   ],
   "source": [
    "def parse(input):\n",
    "    \"\"\"Parses rounds from strategy guide input.\"\"\"\n",
    "    return [line.split() for line in input.splitlines()]\n",
    "    \n",
    "parse(example)"
   ]
  },
  {
   "cell_type": "markdown",
   "id": "83d4a6ed",
   "metadata": {},
   "source": [
    "Calculate score of each round."
   ]
  },
  {
   "cell_type": "code",
   "execution_count": 3,
   "id": "0ad47035",
   "metadata": {},
   "outputs": [
    {
     "name": "stdout",
     "output_type": "stream",
     "text": [
      "8\n",
      "1\n",
      "6\n"
     ]
    }
   ],
   "source": [
    "def score(round):\n",
    "    \"\"\"Calculates score from round.\"\"\"\n",
    "    # Opponent and player selections.\n",
    "    opponent, player = round\n",
    "    \n",
    "    # Map opponent choice that would defeat player choice. \n",
    "    defeat_map = {\n",
    "        # Rock beats scissors.\n",
    "        'A': 'Z',\n",
    "        # Paper beats rock.\n",
    "        'B': 'X',\n",
    "        # Scissors beats paper.\n",
    "        'C': 'Y'\n",
    "    }\n",
    "    \n",
    "    # Determine outcome.\n",
    "    if 'ABC'.index(opponent) == 'XYZ'.index(player):\n",
    "        # Outcome is a draw.\n",
    "        outcome_score = 3\n",
    "    elif player == defeat_map[opponent]:\n",
    "        # Outcome is a loss.\n",
    "        outcome_score = 0\n",
    "    else:\n",
    "        # Outcome is a win.\n",
    "        outcome_score = 6\n",
    "\n",
    "    # Overall score is sum of outcome score and shape score. \n",
    "    return outcome_score + 'XYZ'.index(player) + 1\n",
    "    \n",
    "for round in parse(example):\n",
    "    print(score(round))"
   ]
  },
  {
   "cell_type": "markdown",
   "id": "1a3ec337",
   "metadata": {},
   "source": [
    "Calculate total score."
   ]
  },
  {
   "cell_type": "code",
   "execution_count": 4,
   "id": "5cc5e62c",
   "metadata": {},
   "outputs": [
    {
     "data": {
      "text/plain": [
       "15"
      ]
     },
     "execution_count": 4,
     "metadata": {},
     "output_type": "execute_result"
    }
   ],
   "source": [
    "sum(score(round) for round in parse(example))"
   ]
  },
  {
   "cell_type": "markdown",
   "id": "5b6284ca",
   "metadata": {},
   "source": [
    "# Part 1"
   ]
  },
  {
   "cell_type": "code",
   "execution_count": 5,
   "id": "495a080c",
   "metadata": {},
   "outputs": [
    {
     "data": {
      "text/plain": [
       "12156"
      ]
     },
     "execution_count": 5,
     "metadata": {},
     "output_type": "execute_result"
    }
   ],
   "source": [
    "sum(score(round) for round in parse(open('day-2-input.txt').read()))"
   ]
  },
  {
   "cell_type": "markdown",
   "id": "2aa2b4e3",
   "metadata": {},
   "source": [
    "# Part 2"
   ]
  },
  {
   "cell_type": "code",
   "execution_count": 6,
   "id": "0659c0b3",
   "metadata": {},
   "outputs": [
    {
     "name": "stdout",
     "output_type": "stream",
     "text": [
      "4\n",
      "1\n",
      "7\n"
     ]
    }
   ],
   "source": [
    "def score(round):\n",
    "    \"\"\"Calculates score from round.\"\"\"\n",
    "    # Opponent selection and desired outcome.\n",
    "    opponent, outcome = round\n",
    "    \n",
    "    lose, draw, win = 'XYZ'\n",
    "    \n",
    "    # Choose shape based on desired outcome.\n",
    "    if outcome == draw:\n",
    "        shape = opponent\n",
    "        outcome_score = 3\n",
    "    elif outcome == lose:\n",
    "        shape = {'A': 'C', 'B': 'A', 'C': 'B'}[opponent]\n",
    "        outcome_score = 0\n",
    "    else:\n",
    "        shape = {'A': 'B', 'B': 'C', 'C': 'A'}[opponent]\n",
    "        outcome_score = 6\n",
    "\n",
    "    # Overall score is sum of outcome score and shape score. \n",
    "    return outcome_score + 'ABC'.index(shape) + 1\n",
    "    \n",
    "for round in parse(example):\n",
    "    print(score(round))"
   ]
  },
  {
   "cell_type": "markdown",
   "id": "b86c94d5",
   "metadata": {},
   "source": [
    "Calculate total score."
   ]
  },
  {
   "cell_type": "code",
   "execution_count": 7,
   "id": "d336cf98",
   "metadata": {},
   "outputs": [
    {
     "data": {
      "text/plain": [
       "12"
      ]
     },
     "execution_count": 7,
     "metadata": {},
     "output_type": "execute_result"
    }
   ],
   "source": [
    "sum(score(round) for round in parse(example))"
   ]
  },
  {
   "cell_type": "markdown",
   "id": "3d959b84",
   "metadata": {},
   "source": [
    "Calculate total score on input."
   ]
  },
  {
   "cell_type": "code",
   "execution_count": 8,
   "id": "bde7fb01",
   "metadata": {},
   "outputs": [
    {
     "data": {
      "text/plain": [
       "10835"
      ]
     },
     "execution_count": 8,
     "metadata": {},
     "output_type": "execute_result"
    }
   ],
   "source": [
    "sum(score(round) for round in parse(open('day-2-input.txt').read()))"
   ]
  }
 ],
 "metadata": {
  "kernelspec": {
   "display_name": "Python 3 (ipykernel)",
   "language": "python",
   "name": "python3"
  },
  "language_info": {
   "codemirror_mode": {
    "name": "ipython",
    "version": 3
   },
   "file_extension": ".py",
   "mimetype": "text/x-python",
   "name": "python",
   "nbconvert_exporter": "python",
   "pygments_lexer": "ipython3",
   "version": "3.9.7"
  }
 },
 "nbformat": 4,
 "nbformat_minor": 5
}
