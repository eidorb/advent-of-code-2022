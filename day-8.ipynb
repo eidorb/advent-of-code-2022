{
 "cells": [
  {
   "cell_type": "markdown",
   "id": "04beb0c5",
   "metadata": {},
   "source": [
    "# [Day 8: Treetop Tree House](https://adventofcode.com/2022/day/8)"
   ]
  },
  {
   "cell_type": "code",
   "execution_count": 1,
   "id": "dcd7dc35",
   "metadata": {},
   "outputs": [],
   "source": [
    "example = \"\"\"30373\n",
    "25512\n",
    "65332\n",
    "33549\n",
    "35390\"\"\""
   ]
  },
  {
   "cell_type": "markdown",
   "id": "d8e011d3",
   "metadata": {},
   "source": [
    "Parse tree heights."
   ]
  },
  {
   "cell_type": "code",
   "execution_count": 2,
   "id": "6887b746",
   "metadata": {},
   "outputs": [
    {
     "data": {
      "text/plain": [
       "[[3, 0, 3, 7, 3],\n",
       " [2, 5, 5, 1, 2],\n",
       " [6, 5, 3, 3, 2],\n",
       " [3, 3, 5, 4, 9],\n",
       " [3, 5, 3, 9, 0]]"
      ]
     },
     "execution_count": 2,
     "metadata": {},
     "output_type": "execute_result"
    }
   ],
   "source": [
    "def parse(input):\n",
    "    \"\"\"Returns tree heights parsed from input.\"\"\"\n",
    "    return [\n",
    "        [int(digit) for digit in line] \n",
    "        for line in input.splitlines()\n",
    "    ]\n",
    "    \n",
    "parse(example)"
   ]
  },
  {
   "cell_type": "markdown",
   "id": "292c4355",
   "metadata": {},
   "source": [
    "Determine visibility in one dimension."
   ]
  },
  {
   "cell_type": "code",
   "execution_count": 3,
   "id": "542647ac",
   "metadata": {},
   "outputs": [
    {
     "data": {
      "text/plain": [
       "[True, False, False, True, False]"
      ]
     },
     "execution_count": 3,
     "metadata": {},
     "output_type": "execute_result"
    }
   ],
   "source": [
    "def find_visible(trees):\n",
    "    \"\"\"Returns True if tree is visible along a single dimension.\"\"\"\n",
    "    visibility = []\n",
    "    tallest = float('-inf')\n",
    "    for tree in trees:\n",
    "        if tree > tallest:\n",
    "            visibility.append(True)\n",
    "            tallest = tree\n",
    "        else:\n",
    "            visibility.append(False)\n",
    "    return visibility\n",
    "\n",
    "find_visible([3, 0, 3, 7, 3])"
   ]
  },
  {
   "cell_type": "code",
   "execution_count": 4,
   "id": "a378c506",
   "metadata": {
    "scrolled": false
   },
   "outputs": [
    {
     "data": {
      "text/plain": [
       "{(0, 0),\n",
       " (0, 1),\n",
       " (0, 2),\n",
       " (0, 3),\n",
       " (0, 4),\n",
       " (1, 0),\n",
       " (1, 1),\n",
       " (1, 2),\n",
       " (1, 4),\n",
       " (2, 0),\n",
       " (2, 1),\n",
       " (2, 3),\n",
       " (2, 4),\n",
       " (3, 0),\n",
       " (3, 2),\n",
       " (3, 4),\n",
       " (4, 0),\n",
       " (4, 1),\n",
       " (4, 2),\n",
       " (4, 3),\n",
       " (4, 4)}"
      ]
     },
     "execution_count": 4,
     "metadata": {},
     "output_type": "execute_result"
    }
   ],
   "source": [
    "def visible(trees):\n",
    "    \"\"\"Generates non-unique (row, col) tree tuples if tree is visible.\"\"\"\n",
    "    rows = range(len(trees))\n",
    "    cols = range(len(trees[0]))\n",
    "    for row in rows:\n",
    "        # Left to right.\n",
    "        for visible, col in zip(find_visible([trees[row][col] for col in cols]), cols):\n",
    "            if visible:\n",
    "                yield row, col\n",
    "        # Right to left.\n",
    "        for visible, col in zip(find_visible([trees[row][col] for col in reversed(cols)]), reversed(cols)):\n",
    "            if visible:\n",
    "                yield row, col\n",
    "    for col in cols:\n",
    "        # Top to bottom.\n",
    "        for visible, row in zip(find_visible([trees[row][col] for row in rows]), rows):\n",
    "            if visible:\n",
    "                yield row, col\n",
    "        # Bottom to top.\n",
    "        for visible, row in zip(find_visible([trees[row][col] for row in reversed(rows)]), reversed(rows)):\n",
    "            if visible:\n",
    "                yield row, col\n",
    "\n",
    "set(visible(parse(example)))"
   ]
  },
  {
   "cell_type": "markdown",
   "id": "b8e8f683",
   "metadata": {},
   "source": [
    "Count how many trees are visible from the outside."
   ]
  },
  {
   "cell_type": "code",
   "execution_count": 5,
   "id": "1fd1b5f6",
   "metadata": {},
   "outputs": [
    {
     "data": {
      "text/plain": [
       "21"
      ]
     },
     "execution_count": 5,
     "metadata": {},
     "output_type": "execute_result"
    }
   ],
   "source": [
    "len(set(visible(parse(example))))"
   ]
  },
  {
   "cell_type": "markdown",
   "id": "5b6284ca",
   "metadata": {},
   "source": [
    "# Part 1"
   ]
  },
  {
   "cell_type": "markdown",
   "id": "35d725cb",
   "metadata": {},
   "source": [
    "Count how many trees are visible from the outside in input."
   ]
  },
  {
   "cell_type": "code",
   "execution_count": 6,
   "id": "8fefb83c",
   "metadata": {},
   "outputs": [
    {
     "data": {
      "text/plain": [
       "1789"
      ]
     },
     "execution_count": 6,
     "metadata": {},
     "output_type": "execute_result"
    }
   ],
   "source": [
    "len(set(visible(parse(open('day-8-input.txt').read()))))"
   ]
  },
  {
   "cell_type": "markdown",
   "id": "2aa2b4e3",
   "metadata": {},
   "source": [
    "# Part 2"
   ]
  },
  {
   "cell_type": "markdown",
   "id": "00808d1d",
   "metadata": {},
   "source": [
    "Calculate viewing distance."
   ]
  },
  {
   "cell_type": "code",
   "execution_count": 7,
   "id": "367362f4",
   "metadata": {},
   "outputs": [
    {
     "data": {
      "text/plain": [
       "(2, 0)"
      ]
     },
     "execution_count": 7,
     "metadata": {},
     "output_type": "execute_result"
    }
   ],
   "source": [
    "def calc_viewing_distance(heights):\n",
    "    \"\"\"Returns viewing distance of list of tree heights.\"\"\"\n",
    "    viewing_distance = 0\n",
    "    tallest = heights[0]\n",
    "    for height in heights[1:]:\n",
    "        viewing_distance += 1\n",
    "        if height >= tallest:\n",
    "            break\n",
    "    return viewing_distance\n",
    "\n",
    "calc_viewing_distance([3, 0, 3, 7, 3]), calc_viewing_distance([3])"
   ]
  },
  {
   "cell_type": "markdown",
   "id": "c87f9715",
   "metadata": {},
   "source": [
    "Calculate scenic scores."
   ]
  },
  {
   "cell_type": "code",
   "execution_count": 8,
   "id": "50f83426",
   "metadata": {},
   "outputs": [
    {
     "data": {
      "text/plain": [
       "[0, 0, 0, 0, 0, 0, 1, 4, 1, 0, 0, 6, 1, 2, 0, 0, 1, 8, 3, 0, 0, 0, 0, 0, 0]"
      ]
     },
     "execution_count": 8,
     "metadata": {},
     "output_type": "execute_result"
    }
   ],
   "source": [
    "def scenic_score(trees):\n",
    "    \"\"\"Returns scenic score for all trees.\"\"\"\n",
    "    rows = range(len(trees))\n",
    "    cols = range(len(trees[0]))\n",
    "    for row in rows:\n",
    "        for col in cols:\n",
    "            # From this tree at (row, col)...\n",
    "            yield (\n",
    "                # Look right.\n",
    "                calc_viewing_distance([trees[row][col] for col in range(col, len(cols))]) *\n",
    "                # Look left.\n",
    "                calc_viewing_distance([trees[row][col] for col in range(col, -1, -1)]) *\n",
    "                # Look down.\n",
    "                calc_viewing_distance([trees[row][col] for row in range(row, len(rows))]) *\n",
    "                # Look up.\n",
    "                calc_viewing_distance([trees[row][col] for row in range(row, -1, -1)])\n",
    "            )\n",
    "                \n",
    "list(scenic_score(parse(example)))"
   ]
  },
  {
   "cell_type": "markdown",
   "id": "888f1424",
   "metadata": {},
   "source": [
    "Find maximum scenic score."
   ]
  },
  {
   "cell_type": "code",
   "execution_count": 9,
   "id": "7961dad4",
   "metadata": {},
   "outputs": [
    {
     "data": {
      "text/plain": [
       "8"
      ]
     },
     "execution_count": 9,
     "metadata": {},
     "output_type": "execute_result"
    }
   ],
   "source": [
    "max(scenic_score(parse(example)))"
   ]
  },
  {
   "cell_type": "markdown",
   "id": "a57b7bc3",
   "metadata": {},
   "source": [
    "Find maximum scenic score in input."
   ]
  },
  {
   "cell_type": "code",
   "execution_count": 10,
   "id": "97100d7f",
   "metadata": {},
   "outputs": [
    {
     "data": {
      "text/plain": [
       "314820"
      ]
     },
     "execution_count": 10,
     "metadata": {},
     "output_type": "execute_result"
    }
   ],
   "source": [
    "max(scenic_score(parse(open('day-8-input.txt').read())))"
   ]
  }
 ],
 "metadata": {
  "kernelspec": {
   "display_name": "Python 3 (ipykernel)",
   "language": "python",
   "name": "python3"
  },
  "language_info": {
   "codemirror_mode": {
    "name": "ipython",
    "version": 3
   },
   "file_extension": ".py",
   "mimetype": "text/x-python",
   "name": "python",
   "nbconvert_exporter": "python",
   "pygments_lexer": "ipython3",
   "version": "3.11.0"
  }
 },
 "nbformat": 4,
 "nbformat_minor": 5
}
