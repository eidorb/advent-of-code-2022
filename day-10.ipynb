{
 "cells": [
  {
   "cell_type": "markdown",
   "id": "04beb0c5",
   "metadata": {},
   "source": [
    "# [Day 10: Cathode-Ray Tube](https://adventofcode.com/2022/day/10)"
   ]
  },
  {
   "cell_type": "code",
   "execution_count": 1,
   "id": "dcd7dc35",
   "metadata": {},
   "outputs": [],
   "source": [
    "example = \"\"\"noop\n",
    "addx 3\n",
    "addx -5\"\"\""
   ]
  },
  {
   "cell_type": "markdown",
   "id": "d8e011d3",
   "metadata": {},
   "source": [
    "Parse program instructions from input."
   ]
  },
  {
   "cell_type": "code",
   "execution_count": 2,
   "id": "6887b746",
   "metadata": {},
   "outputs": [
    {
     "data": {
      "text/plain": [
       "[['noop'], ['addx', 3], ['addx', -5]]"
      ]
     },
     "execution_count": 2,
     "metadata": {},
     "output_type": "execute_result"
    }
   ],
   "source": [
    "def parse(input):\n",
    "    \"\"\"Returns program parsed from input.\"\"\"\n",
    "    return [\n",
    "        [\n",
    "            # Convert tokens after instructions to integers.\n",
    "            int(token) if index else token \n",
    "            for index, token in enumerate(line.split())\n",
    "        ]\n",
    "        for line in input.splitlines()\n",
    "    ]\n",
    "\n",
    "parse(example)"
   ]
  },
  {
   "cell_type": "markdown",
   "id": "4e4e378f",
   "metadata": {},
   "source": [
    "Execute program."
   ]
  },
  {
   "cell_type": "code",
   "execution_count": 3,
   "id": "48b49b8d",
   "metadata": {},
   "outputs": [
    {
     "data": {
      "text/plain": [
       "[1, 1, 1, 4, 4]"
      ]
     },
     "execution_count": 3,
     "metadata": {},
     "output_type": "execute_result"
    }
   ],
   "source": [
    "def execute(program):\n",
    "    \"\"\"Generates values of register X DURING each cycle.\"\"\"\n",
    "    # Register X is initialised with a value of 1.\n",
    "    x = 1\n",
    "    for instruction, *arguments in program:\n",
    "        match instruction:\n",
    "            case 'noop':\n",
    "                yield x\n",
    "            case 'addx':\n",
    "                yield x\n",
    "                yield x\n",
    "                x += arguments[0]\n",
    "    \n",
    "list(execute(parse(example)))"
   ]
  },
  {
   "cell_type": "code",
   "execution_count": 4,
   "id": "fac4ccc4",
   "metadata": {},
   "outputs": [],
   "source": [
    "larger_example = \"\"\"addx 15\n",
    "addx -11\n",
    "addx 6\n",
    "addx -3\n",
    "addx 5\n",
    "addx -1\n",
    "addx -8\n",
    "addx 13\n",
    "addx 4\n",
    "noop\n",
    "addx -1\n",
    "addx 5\n",
    "addx -1\n",
    "addx 5\n",
    "addx -1\n",
    "addx 5\n",
    "addx -1\n",
    "addx 5\n",
    "addx -1\n",
    "addx -35\n",
    "addx 1\n",
    "addx 24\n",
    "addx -19\n",
    "addx 1\n",
    "addx 16\n",
    "addx -11\n",
    "noop\n",
    "noop\n",
    "addx 21\n",
    "addx -15\n",
    "noop\n",
    "noop\n",
    "addx -3\n",
    "addx 9\n",
    "addx 1\n",
    "addx -3\n",
    "addx 8\n",
    "addx 1\n",
    "addx 5\n",
    "noop\n",
    "noop\n",
    "noop\n",
    "noop\n",
    "noop\n",
    "addx -36\n",
    "noop\n",
    "addx 1\n",
    "addx 7\n",
    "noop\n",
    "noop\n",
    "noop\n",
    "addx 2\n",
    "addx 6\n",
    "noop\n",
    "noop\n",
    "noop\n",
    "noop\n",
    "noop\n",
    "addx 1\n",
    "noop\n",
    "noop\n",
    "addx 7\n",
    "addx 1\n",
    "noop\n",
    "addx -13\n",
    "addx 13\n",
    "addx 7\n",
    "noop\n",
    "addx 1\n",
    "addx -33\n",
    "noop\n",
    "noop\n",
    "noop\n",
    "addx 2\n",
    "noop\n",
    "noop\n",
    "noop\n",
    "addx 8\n",
    "noop\n",
    "addx -1\n",
    "addx 2\n",
    "addx 1\n",
    "noop\n",
    "addx 17\n",
    "addx -9\n",
    "addx 1\n",
    "addx 1\n",
    "addx -3\n",
    "addx 11\n",
    "noop\n",
    "noop\n",
    "addx 1\n",
    "noop\n",
    "addx 1\n",
    "noop\n",
    "noop\n",
    "addx -13\n",
    "addx -19\n",
    "addx 1\n",
    "addx 3\n",
    "addx 26\n",
    "addx -30\n",
    "addx 12\n",
    "addx -1\n",
    "addx 3\n",
    "addx 1\n",
    "noop\n",
    "noop\n",
    "noop\n",
    "addx -9\n",
    "addx 18\n",
    "addx 1\n",
    "addx 2\n",
    "noop\n",
    "noop\n",
    "addx 9\n",
    "noop\n",
    "noop\n",
    "noop\n",
    "addx -1\n",
    "addx 2\n",
    "addx -37\n",
    "addx 1\n",
    "addx 3\n",
    "noop\n",
    "addx 15\n",
    "addx -21\n",
    "addx 22\n",
    "addx -6\n",
    "addx 1\n",
    "noop\n",
    "addx 2\n",
    "addx 1\n",
    "noop\n",
    "addx -10\n",
    "noop\n",
    "noop\n",
    "addx 20\n",
    "addx 1\n",
    "addx 2\n",
    "addx 2\n",
    "addx -6\n",
    "addx -11\n",
    "noop\n",
    "noop\n",
    "noop\"\"\""
   ]
  },
  {
   "cell_type": "markdown",
   "id": "f4ac26b6",
   "metadata": {},
   "source": [
    "Sum *interesting* signal strengths."
   ]
  },
  {
   "cell_type": "code",
   "execution_count": 5,
   "id": "f5f555c0",
   "metadata": {},
   "outputs": [
    {
     "data": {
      "text/plain": [
       "13140"
      ]
     },
     "execution_count": 5,
     "metadata": {},
     "output_type": "execute_result"
    }
   ],
   "source": [
    "def interesting_signal_strengths(values):\n",
    "    \"\"\"Generates interesting signal strengths.\"\"\"\n",
    "    interesting = 20\n",
    "    for cycle, value in enumerate(values, start=1):\n",
    "        if cycle == interesting:\n",
    "            yield cycle * value\n",
    "            interesting += 40\n",
    "        \n",
    "sum(interesting_signal_strengths(execute(parse(larger_example))))"
   ]
  },
  {
   "cell_type": "markdown",
   "id": "5b6284ca",
   "metadata": {},
   "source": [
    "# Part 1"
   ]
  },
  {
   "cell_type": "markdown",
   "id": "43d5b377",
   "metadata": {},
   "source": [
    "Sum *interesting* signal strengths in input."
   ]
  },
  {
   "cell_type": "code",
   "execution_count": 6,
   "id": "329a40ea",
   "metadata": {},
   "outputs": [
    {
     "data": {
      "text/plain": [
       "12640"
      ]
     },
     "execution_count": 6,
     "metadata": {},
     "output_type": "execute_result"
    }
   ],
   "source": [
    "sum(interesting_signal_strengths(execute(parse(open('day-10-input.txt').read()))))"
   ]
  },
  {
   "cell_type": "markdown",
   "id": "2aa2b4e3",
   "metadata": {},
   "source": [
    "# Part 2"
   ]
  },
  {
   "cell_type": "markdown",
   "id": "10cc7d07",
   "metadata": {},
   "source": [
    "Use value of X at each cycle to draw pixel."
   ]
  },
  {
   "cell_type": "code",
   "execution_count": 7,
   "id": "51af657f",
   "metadata": {
    "scrolled": false
   },
   "outputs": [
    {
     "name": "stdout",
     "output_type": "stream",
     "text": [
      "##..##..##..##..##..##..##..##..##..##..\n",
      "###...###...###...###...###...###...###.\n",
      "####....####....####....####....####....\n",
      "#####.....#####.....#####.....#####.....\n",
      "######......######......######......####\n",
      "#######.......#######.......#######.....\n"
     ]
    }
   ],
   "source": [
    "def draw(values):\n",
    "    position = 0\n",
    "    for value in values:\n",
    "        if (value - 1) <= position <= (value + 1):\n",
    "            print('#', end='')\n",
    "        else:\n",
    "            print('.', end='')\n",
    "        position += 1\n",
    "        if position > 39:\n",
    "            print()\n",
    "            position = 0\n",
    "        \n",
    "draw(execute(parse(larger_example)))"
   ]
  },
  {
   "cell_type": "code",
   "execution_count": 8,
   "id": "e739066b",
   "metadata": {
    "scrolled": false
   },
   "outputs": [
    {
     "name": "stdout",
     "output_type": "stream",
     "text": [
      "####.#..#.###..####.#....###....##.###..\n",
      "#....#..#.#..#....#.#....#..#....#.#..#.\n",
      "###..####.###....#..#....#..#....#.#..#.\n",
      "#....#..#.#..#..#...#....###.....#.###..\n",
      "#....#..#.#..#.#....#....#.#..#..#.#.#..\n",
      "####.#..#.###..####.####.#..#..##..#..#.\n"
     ]
    }
   ],
   "source": [
    "draw(execute(parse(open('day-10-input.txt').read())))"
   ]
  }
 ],
 "metadata": {
  "kernelspec": {
   "display_name": "Python 3 (ipykernel)",
   "language": "python",
   "name": "python3"
  },
  "language_info": {
   "codemirror_mode": {
    "name": "ipython",
    "version": 3
   },
   "file_extension": ".py",
   "mimetype": "text/x-python",
   "name": "python",
   "nbconvert_exporter": "python",
   "pygments_lexer": "ipython3",
   "version": "3.11.0"
  }
 },
 "nbformat": 4,
 "nbformat_minor": 5
}
