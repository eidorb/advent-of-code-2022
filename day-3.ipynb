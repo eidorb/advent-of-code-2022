{
 "cells": [
  {
   "cell_type": "markdown",
   "id": "04beb0c5",
   "metadata": {},
   "source": [
    "# [Day 3: Rucksack Reorganization](https://adventofcode.com/2022/day/3)"
   ]
  },
  {
   "cell_type": "code",
   "execution_count": 1,
   "id": "dcd7dc35",
   "metadata": {},
   "outputs": [],
   "source": [
    "example = \"\"\"vJrwpWtwJgWrhcsFMMfFFhFp\n",
    "jqHRNqRjqzjGDLGLrsFMfFZSrLrFZsSL\n",
    "PmmdzqPrVvPwwTWBwg\n",
    "wMqvLMZHhHMvwLHjbvcjnnSBnvTQFn\n",
    "ttgJtRGJQctTZtZT\n",
    "CrZsJsPPZsGzwwsLwLmpwMDw\"\"\""
   ]
  },
  {
   "cell_type": "code",
   "execution_count": 2,
   "id": "6887b746",
   "metadata": {},
   "outputs": [
    {
     "data": {
      "text/plain": [
       "[('vJrwpWtwJgWr', 'hcsFMMfFFhFp'),\n",
       " ('jqHRNqRjqzjGDLGL', 'rsFMfFZSrLrFZsSL'),\n",
       " ('PmmdzqPrV', 'vPwwTWBwg'),\n",
       " ('wMqvLMZHhHMvwLH', 'jbvcjnnSBnvTQFn'),\n",
       " ('ttgJtRGJ', 'QctTZtZT'),\n",
       " ('CrZsJsPPZsGz', 'wwsLwLmpwMDw')]"
      ]
     },
     "execution_count": 2,
     "metadata": {},
     "output_type": "execute_result"
    }
   ],
   "source": [
    "def parse(input):\n",
    "    \"\"\"Parses rucksack comparments from input.\"\"\"\n",
    "    return [\n",
    "        # Split into compartments.\n",
    "        (line[:len(line) // 2], line[len(line) // 2:]) \n",
    "        for line in input.splitlines()\n",
    "    ]\n",
    "    \n",
    "parse(example)"
   ]
  },
  {
   "cell_type": "markdown",
   "id": "83d4a6ed",
   "metadata": {},
   "source": [
    "Find common item type in comparments."
   ]
  },
  {
   "cell_type": "code",
   "execution_count": 3,
   "id": "75cb9df3",
   "metadata": {},
   "outputs": [
    {
     "data": {
      "text/plain": [
       "['p', 'L', 'P', 'v', 't', 's']"
      ]
     },
     "execution_count": 3,
     "metadata": {},
     "output_type": "execute_result"
    }
   ],
   "source": [
    "def find_common_item_type(first, second):\n",
    "    \"\"\"Returns item type common to first and second compartments.\"\"\"\n",
    "    return (set(first) & set(second)).pop()\n",
    "\n",
    "[\n",
    "    find_common_item_type(first, second)\n",
    "    for first, second in parse(example)\n",
    "]"
   ]
  },
  {
   "cell_type": "markdown",
   "id": "400f74a6",
   "metadata": {},
   "source": [
    "Determing item type priorities."
   ]
  },
  {
   "cell_type": "code",
   "execution_count": 4,
   "id": "bf55d67c",
   "metadata": {},
   "outputs": [
    {
     "data": {
      "text/plain": [
       "[16, 38, 42, 22, 20, 19]"
      ]
     },
     "execution_count": 4,
     "metadata": {},
     "output_type": "execute_result"
    }
   ],
   "source": [
    "import string\n",
    "\n",
    "def prioritise(item_type):\n",
    "    \"\"\"Returns priority of item type.\"\"\"\n",
    "    return string.ascii_letters.index(item_type) + 1\n",
    "    \n",
    "[\n",
    "    prioritise(\n",
    "        find_common_item_type(first, second)\n",
    "    )\n",
    "    for first, second in parse(example)\n",
    "]"
   ]
  },
  {
   "cell_type": "markdown",
   "id": "f7f17087",
   "metadata": {},
   "source": [
    "Sum priorities."
   ]
  },
  {
   "cell_type": "code",
   "execution_count": 5,
   "id": "b094b599",
   "metadata": {},
   "outputs": [
    {
     "data": {
      "text/plain": [
       "157"
      ]
     },
     "execution_count": 5,
     "metadata": {},
     "output_type": "execute_result"
    }
   ],
   "source": [
    "sum(\n",
    "    prioritise(\n",
    "        find_common_item_type(first, second)\n",
    "    )\n",
    "    for first, second in parse(example)\n",
    ")"
   ]
  },
  {
   "cell_type": "markdown",
   "id": "5b6284ca",
   "metadata": {},
   "source": [
    "# Part 1"
   ]
  },
  {
   "cell_type": "code",
   "execution_count": 6,
   "id": "6e15ab4d",
   "metadata": {},
   "outputs": [
    {
     "data": {
      "text/plain": [
       "7568"
      ]
     },
     "execution_count": 6,
     "metadata": {},
     "output_type": "execute_result"
    }
   ],
   "source": [
    "sum(\n",
    "    prioritise(\n",
    "        find_common_item_type(first, second)\n",
    "    )\n",
    "    for first, second in parse(open('day-3-input.txt').read())\n",
    ")"
   ]
  },
  {
   "cell_type": "markdown",
   "id": "2aa2b4e3",
   "metadata": {},
   "source": [
    "# Part 2"
   ]
  },
  {
   "cell_type": "code",
   "execution_count": 7,
   "id": "30d0f40d",
   "metadata": {},
   "outputs": [
    {
     "data": {
      "text/plain": [
       "[('vJrwpWtwJgWrhcsFMMfFFhFp',\n",
       "  'jqHRNqRjqzjGDLGLrsFMfFZSrLrFZsSL',\n",
       "  'PmmdzqPrVvPwwTWBwg'),\n",
       " ('wMqvLMZHhHMvwLHjbvcjnnSBnvTQFn',\n",
       "  'ttgJtRGJQctTZtZT',\n",
       "  'CrZsJsPPZsGzwwsLwLmpwMDw')]"
      ]
     },
     "execution_count": 7,
     "metadata": {},
     "output_type": "execute_result"
    }
   ],
   "source": [
    "def parse(input):\n",
    "    \"\"\"Parses rucksack groups from input.\"\"\"\n",
    "    return list(zip(*[iter(input.splitlines())] * 3))\n",
    "    \n",
    "parse(example)"
   ]
  },
  {
   "cell_type": "markdown",
   "id": "6059b81e",
   "metadata": {},
   "source": [
    "Find common item type of groups."
   ]
  },
  {
   "cell_type": "code",
   "execution_count": 8,
   "id": "024311ab",
   "metadata": {},
   "outputs": [
    {
     "data": {
      "text/plain": [
       "['r', 'Z']"
      ]
     },
     "execution_count": 8,
     "metadata": {},
     "output_type": "execute_result"
    }
   ],
   "source": [
    "def find_common_item_type(group):\n",
    "    \"\"\"Returns common item type of group.\"\"\"\n",
    "    return set.intersection(*[set(item_types) for item_types in group]).pop()\n",
    "\n",
    "[\n",
    "    find_common_item_type(group)\n",
    "    for group in parse(example)\n",
    "]"
   ]
  },
  {
   "cell_type": "markdown",
   "id": "a41560a1",
   "metadata": {},
   "source": [
    "Sum item type priorities."
   ]
  },
  {
   "cell_type": "code",
   "execution_count": 9,
   "id": "24c0dbd3",
   "metadata": {},
   "outputs": [
    {
     "data": {
      "text/plain": [
       "70"
      ]
     },
     "execution_count": 9,
     "metadata": {},
     "output_type": "execute_result"
    }
   ],
   "source": [
    "sum(\n",
    "    prioritise(\n",
    "        find_common_item_type(group)\n",
    "    )\n",
    "    for group in parse(example)\n",
    ")"
   ]
  },
  {
   "cell_type": "markdown",
   "id": "e733e264",
   "metadata": {},
   "source": [
    "Sum item type priorities of input."
   ]
  },
  {
   "cell_type": "code",
   "execution_count": 10,
   "id": "cc96a6bb",
   "metadata": {},
   "outputs": [
    {
     "data": {
      "text/plain": [
       "2780"
      ]
     },
     "execution_count": 10,
     "metadata": {},
     "output_type": "execute_result"
    }
   ],
   "source": [
    "sum(\n",
    "    prioritise(\n",
    "        find_common_item_type(group)\n",
    "    )\n",
    "    for group in parse(open('day-3-input.txt').read())\n",
    ")"
   ]
  }
 ],
 "metadata": {
  "kernelspec": {
   "display_name": "Python 3 (ipykernel)",
   "language": "python",
   "name": "python3"
  },
  "language_info": {
   "codemirror_mode": {
    "name": "ipython",
    "version": 3
   },
   "file_extension": ".py",
   "mimetype": "text/x-python",
   "name": "python",
   "nbconvert_exporter": "python",
   "pygments_lexer": "ipython3",
   "version": "3.9.7"
  }
 },
 "nbformat": 4,
 "nbformat_minor": 5
}
