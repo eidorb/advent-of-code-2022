{
 "cells": [
  {
   "cell_type": "markdown",
   "id": "04beb0c5",
   "metadata": {},
   "source": [
    "# [Day 6: Tuning Trouble](https://adventofcode.com/2022/day/6)"
   ]
  },
  {
   "cell_type": "code",
   "execution_count": 1,
   "id": "dcd7dc35",
   "metadata": {},
   "outputs": [],
   "source": [
    "examples = \"\"\"mjqjpqmgbljsphdztnvjfqwrcgsmlb\n",
    "bvwbjplbgvbhsrlpgdmjqwftvncz\n",
    "nppdvjthqldpwncqszvftbrmjlhg\n",
    "nznrnfrfntjfmvfwmzdfjlvtqnbhcprsg\n",
    "zcfzfwzzqfrljwzlrfnpqdbhtmscgvjw\"\"\""
   ]
  },
  {
   "cell_type": "markdown",
   "id": "d8e011d3",
   "metadata": {},
   "source": [
    "Find positions of start-of-packet markers."
   ]
  },
  {
   "cell_type": "code",
   "execution_count": 2,
   "id": "6887b746",
   "metadata": {},
   "outputs": [
    {
     "data": {
      "text/plain": [
       "[7, 5, 6, 10, 11]"
      ]
     },
     "execution_count": 2,
     "metadata": {},
     "output_type": "execute_result"
    }
   ],
   "source": [
    "import itertools\n",
    "\n",
    "def find_start(buffer):\n",
    "    \"\"\"Returns position of start-of-packet marker in buffer.\"\"\"\n",
    "    # Start with the first four characters.\n",
    "    for start, end in zip(itertools.count(), itertools.count(4)):\n",
    "        # Stop at the end of buffer.\n",
    "        if end > len(buffer):\n",
    "            return\n",
    "        # No repeats means four unique characters.\n",
    "        if len(set(buffer[start:end])) == 4:\n",
    "            return end\n",
    "            \n",
    "    \n",
    "[find_start(example) for example in examples.splitlines()]"
   ]
  },
  {
   "cell_type": "markdown",
   "id": "5b6284ca",
   "metadata": {},
   "source": [
    "# Part 1"
   ]
  },
  {
   "cell_type": "markdown",
   "id": "7497fb1c",
   "metadata": {},
   "source": [
    "Find position of start-of-packet marker in input."
   ]
  },
  {
   "cell_type": "code",
   "execution_count": 3,
   "id": "0bc80c13",
   "metadata": {},
   "outputs": [
    {
     "data": {
      "text/plain": [
       "1042"
      ]
     },
     "execution_count": 3,
     "metadata": {},
     "output_type": "execute_result"
    }
   ],
   "source": [
    "find_start(open('day-6-input.txt').read())"
   ]
  },
  {
   "cell_type": "markdown",
   "id": "2aa2b4e3",
   "metadata": {},
   "source": [
    "# Part 2"
   ]
  },
  {
   "cell_type": "markdown",
   "id": "56eee27e",
   "metadata": {},
   "source": [
    "Find positions of start-of-message markers."
   ]
  },
  {
   "cell_type": "code",
   "execution_count": 4,
   "id": "28f7a089",
   "metadata": {},
   "outputs": [
    {
     "data": {
      "text/plain": [
       "[19, 23, 23, 29, 26]"
      ]
     },
     "execution_count": 4,
     "metadata": {},
     "output_type": "execute_result"
    }
   ],
   "source": [
    "def find_message(buffer):\n",
    "    \"\"\"Returns position of start-of-mesage marker in buffer.\"\"\"\n",
    "    # Start with the first 14 characters.\n",
    "    for start, end in zip(itertools.count(), itertools.count(14)):\n",
    "        # Stop at the end of buffer.\n",
    "        if end > len(buffer):\n",
    "            return\n",
    "        # No repeats means 14 unique characters.\n",
    "        if len(set(buffer[start:end])) == 14:\n",
    "            return end\n",
    "            \n",
    "    \n",
    "[find_message(example) for example in examples.splitlines()]"
   ]
  },
  {
   "cell_type": "markdown",
   "id": "9bbf0d01",
   "metadata": {},
   "source": [
    "Find position of start-of-message marker in input."
   ]
  },
  {
   "cell_type": "code",
   "execution_count": 5,
   "id": "d6830481",
   "metadata": {},
   "outputs": [
    {
     "data": {
      "text/plain": [
       "2980"
      ]
     },
     "execution_count": 5,
     "metadata": {},
     "output_type": "execute_result"
    }
   ],
   "source": [
    "find_message(open('day-6-input.txt').read())"
   ]
  }
 ],
 "metadata": {
  "kernelspec": {
   "display_name": "Python 3 (ipykernel)",
   "language": "python",
   "name": "python3"
  },
  "language_info": {
   "codemirror_mode": {
    "name": "ipython",
    "version": 3
   },
   "file_extension": ".py",
   "mimetype": "text/x-python",
   "name": "python",
   "nbconvert_exporter": "python",
   "pygments_lexer": "ipython3",
   "version": "3.9.7"
  }
 },
 "nbformat": 4,
 "nbformat_minor": 5
}
